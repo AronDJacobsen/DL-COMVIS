{
 "cells": [
  {
   "cell_type": "code",
   "execution_count": 1,
   "metadata": {},
   "outputs": [],
   "source": [
    "from omegaconf import OmegaConf\n",
    "import torchvision.transforms as transforms\n",
    "from pytorch_lightning.loggers import TensorBoardLogger\n",
    "import pytorch_lightning as pl\n",
    "\n",
    "from src.models.project1.train_model import train\n",
    "from src.utils import set_seed\n",
    "from src.data.project1.dataloader import get_loaders, get_normalization_constants\n",
    "from pytorch_lightning.callbacks import ModelCheckpoint, LearningRateFinder\n",
    "\n",
    "from src.models.project1.models import get_model\n",
    "import matplotlib.pylab as plt\n",
    "import sys\n",
    "\n",
    "\n"
   ]
  },
  {
   "cell_type": "code",
   "execution_count": null,
   "metadata": {},
   "outputs": [],
   "source": [
    "!{sys.executable} -m pip install -e GitHub/DL-COMVIS"
   ]
  },
  {
   "attachments": {},
   "cell_type": "markdown",
   "metadata": {},
   "source": [
    "# Arguments"
   ]
  },
  {
   "cell_type": "code",
   "execution_count": 5,
   "metadata": {},
   "outputs": [],
   "source": [
    "# Define arguments\n",
    "args = OmegaConf.create({\n",
    "    'experiment_name': 'test123',\n",
    "    'network_name': 'initial',\n",
    "\n",
    "    'data_path': '/dtu/datasets1/02514/hotdog_nothotdog/',\n",
    "    'log_path': '/work3/s194262/02514/DL-COMVIS/logs/project1',\n",
    "    'save_path': '/work3/s194262/02514/DL-COMVIS/models/project1',\n",
    "    \n",
    "    'seed': 0,\n",
    "    'verbose': False,\n",
    "    'log_every_n': 2,\n",
    "\n",
    "    'batch_size': 32,\n",
    "    'optimizer': 'Adam',\n",
    "    'lr': 0.005,\n",
    "    'min_lr': 0.00000001,\n",
    "    'max_lr': 0.1,\n",
    "    'initial_lr_steps': 10,\n",
    "\n",
    "    'epochs': 5,\n",
    "    'num_workers': 24, \n",
    "    'devices': -1, \n",
    "})"
   ]
  },
  {
   "attachments": {},
   "cell_type": "markdown",
   "metadata": {},
   "source": [
    "# Train"
   ]
  },
  {
   "cell_type": "code",
   "execution_count": null,
   "metadata": {},
   "outputs": [],
   "source": [
    "# Train model\n",
    "train(args)"
   ]
  },
  {
   "attachments": {},
   "cell_type": "markdown",
   "metadata": {},
   "source": [
    "# Step-wise"
   ]
  },
  {
   "cell_type": "code",
   "execution_count": 2,
   "metadata": {},
   "outputs": [],
   "source": [
    "\n",
    "def get_network(network_name: str, args):\n",
    "\n",
    "    def norm(norm_type, layer_num, num_features):\n",
    "        if norm_type == 'batchnorm':\n",
    "            return (f'bn{layer_num}', nn.BatchNorm2d(num_features))\n",
    "        if norm_type == 'layernorm':\n",
    "            # image shaped divided by 2 ** number of times we've done maxpooling\n",
    "            channel_dim = 224 / 2**(layer_num - 1)\n",
    "            return (f'ln{layer_num}', nn.LayerNorm([num_features, channel_dim, channel_dim])),\n",
    "        if norm_type == 'instancenorm':\n",
    "            return (f'in{layer_num}', nn.InstanceNorm2d(num_features)),\n",
    "\n",
    "    if network_name == 'test':\n",
    "        return nn.Sequential(OrderedDict([\n",
    "            ('conv1', nn.Conv2d(3, 16, kernel_size=3, stride=1, padding=1)),\n",
    "            ('relu1', nn.ReLU()),\n",
    "            ('pool1', nn.MaxPool2d(kernel_size=2, stride=2)),\n",
    "            ('conv2', nn.Conv2d(16, 32, kernel_size=3, stride=1, padding=1)),\n",
    "            ('relu2', nn.ReLU()),\n",
    "            ('pool2', nn.MaxPool2d(kernel_size=2, stride=2)),\n",
    "            ('conv3', nn.Conv2d(32, 64, kernel_size=3, stride=1, padding=1)),\n",
    "            ('relu3', nn.ReLU()),\n",
    "            ('pool3', nn.MaxPool2d(kernel_size=2, stride=2)),\n",
    "            ('flatten', nn.Flatten()),\n",
    "            ('fc1', nn.Linear(64 * 28 * 28, 256)),\n",
    "            ('relu4', nn.ReLU()),\n",
    "            ('fc2', nn.Linear(256, 2))\n",
    "        ]))\n",
    "\n",
    "    elif network_name == 'initial':\n",
    "        return nn.Sequential(OrderedDict([\n",
    "            ('conv1', nn.Conv2d(3, 16, kernel_size=3, stride=1, padding=1)),\n",
    "            norm(norm_type = args.norm, layer_num = 1, num_features = 16),\n",
    "            ('relu1', nn.ReLU()),\n",
    "            ('pool1', nn.MaxPool2d(kernel_size=2, stride=2)),\n",
    "            ('dropout1', nn.Dropout(p=0.2)),\n",
    "            \n",
    "            ('conv2', nn.Conv2d(16, 32, kernel_size=3, stride=1, padding=1)),\n",
    "            norm(norm_type = args.norm, layer_num = 2, num_features = 32),\n",
    "            ('relu2', nn.ReLU()),\n",
    "            ('pool2', nn.MaxPool2d(kernel_size=2, stride=2)),\n",
    "            ('dropout2', nn.Dropout(p=0.2)),\n",
    "            \n",
    "            ('conv3', nn.Conv2d(32, 64, kernel_size=3, stride=1, padding=1)),\n",
    "            norm(norm_type = args.norm, layer_num = 3, num_features = 64),\n",
    "            ('relu3', nn.ReLU()),\n",
    "            ('pool3', nn.MaxPool2d(kernel_size=2, stride=2)),\n",
    "            ('dropout3', nn.Dropout(p=0.2)),\n",
    "            \n",
    "            ('conv4', nn.Conv2d(64, 128, kernel_size=3, stride=1, padding=1)),\n",
    "            norm(norm_type = args.norm, layer_num = 4, num_features = 128),\n",
    "            ('relu4', nn.ReLU()),\n",
    "            ('pool4', nn.MaxPool2d(kernel_size=2, stride=2)),\n",
    "            ('dropout4', nn.Dropout(p=0.2)),\n",
    "            \n",
    "            ('flatten', nn.Flatten()),\n",
    "            ('fc1', nn.Linear(128 * 14 * 14, 256)),\n",
    "            ('relu4', nn.ReLU()),\n",
    "            ('dropout5', nn.Dropout(p=0.2)),\n",
    "            ('fc2', nn.Linear(256, 2))\n",
    "        ]))\n",
    "\t\n",
    "\n",
    "    else:\n",
    "        raise NotImplementedError(\"Not defined yet...\")"
   ]
  },
  {
   "cell_type": "code",
   "execution_count": 6,
   "metadata": {},
   "outputs": [],
   "source": [
    "model = get_model(network_name=args.network_name)(args)\n"
   ]
  },
  {
   "cell_type": "code",
   "execution_count": 4,
   "metadata": {},
   "outputs": [],
   "source": [
    "model = get_model(network_name=args.network_name)(args)\n",
    "model.lr_finder = LearningRateFinder(\n",
    "    min_lr=args.min_lr,\n",
    "    max_lr=args.max_lr,\n",
    "    num_training_steps=args.initial_lr_steps,\n",
    "    early_stop_threshold=False\n",
    ")\n"
   ]
  },
  {
   "cell_type": "code",
   "execution_count": 12,
   "metadata": {},
   "outputs": [
    {
     "name": "stderr",
     "output_type": "stream",
     "text": [
      "Computing mean of training split...: 100%|█| 1638/1638 [00:05<00:00,\n",
      "Computing std. dev. of training split...: 100%|█| 1638/1638 [00:06<0\n"
     ]
    },
    {
     "name": "stdout",
     "output_type": "stream",
     "text": [
      "\n",
      "Mean: tensor([0.5132, 0.4369, 0.3576])\n",
      "Std. dev.: tensor([0.0214, 0.0208, 0.0223])\n"
     ]
    },
    {
     "name": "stderr",
     "output_type": "stream",
     "text": [
      "GPU available: True (cuda), used: True\n",
      "TPU available: False, using: 0 TPU cores\n",
      "IPU available: False, using: 0 IPUs\n",
      "HPU available: False, using: 0 HPUs\n",
      "LOCAL_RANK: 0 - CUDA_VISIBLE_DEVICES: [1]\n"
     ]
    },
    {
     "data": {
      "application/vnd.jupyter.widget-view+json": {
       "model_id": "df3e40f175cf4e6bbc10dfe217b89b89",
       "version_major": 2,
       "version_minor": 0
      },
      "text/plain": [
       "Finding best initial lr:   0%|          | 0/10 [00:00<?, ?it/s]"
      ]
     },
     "metadata": {},
     "output_type": "display_data"
    },
    {
     "name": "stderr",
     "output_type": "stream",
     "text": [
      "LR finder stopped early after 8 steps due to diverging loss.\n",
      "Failed to compute suggestion for learning rate because there are not enough points. Increase the loop iteration limits or the size of your dataset/dataloader.\n",
      "Restoring states from the checkpoint path at /zhome/96/8/147177/GitHub/DL-COMVIS/.lr_find_19891ac3-2a7a-41af-ab87-b74299be3c07.ckpt\n",
      "Restored all states from the checkpoint at /zhome/96/8/147177/GitHub/DL-COMVIS/.lr_find_19891ac3-2a7a-41af-ab87-b74299be3c07.ckpt\n",
      "\n",
      "  | Name      | Type              | Params\n",
      "------------------------------------------------\n",
      "0 | network   | Sequential        | 6.5 M \n",
      "1 | criterion | BCEWithLogitsLoss | 0     \n",
      "2 | accuracy  | BinaryAccuracy    | 0     \n",
      "------------------------------------------------\n",
      "6.5 M     Trainable params\n",
      "0         Non-trainable params\n",
      "6.5 M     Total params\n",
      "26.083    Total estimated model params size (MB)\n",
      "Restored all states from the checkpoint at /zhome/96/8/147177/GitHub/DL-COMVIS/.lr_find_19891ac3-2a7a-41af-ab87-b74299be3c07.ckpt\n"
     ]
    },
    {
     "data": {
      "application/vnd.jupyter.widget-view+json": {
       "model_id": "519aeead989f4bd195de554884cd9274",
       "version_major": 2,
       "version_minor": 0
      },
      "text/plain": [
       "Sanity Checking: 0it [00:00, ?it/s]"
      ]
     },
     "metadata": {},
     "output_type": "display_data"
    },
    {
     "data": {
      "application/vnd.jupyter.widget-view+json": {
       "model_id": "9d74d9a8b8954b959413deeeaefe00a4",
       "version_major": 2,
       "version_minor": 0
      },
      "text/plain": [
       "Training: 0it [00:00, ?it/s]"
      ]
     },
     "metadata": {},
     "output_type": "display_data"
    },
    {
     "data": {
      "application/vnd.jupyter.widget-view+json": {
       "model_id": "a8e66f02f8db4a998c520e81adf2d204",
       "version_major": 2,
       "version_minor": 0
      },
      "text/plain": [
       "Validation: 0it [00:00, ?it/s]"
      ]
     },
     "metadata": {},
     "output_type": "display_data"
    },
    {
     "data": {
      "application/vnd.jupyter.widget-view+json": {
       "model_id": "4fbc7a3b23d34a518bb1e6c58010b336",
       "version_major": 2,
       "version_minor": 0
      },
      "text/plain": [
       "Validation: 0it [00:00, ?it/s]"
      ]
     },
     "metadata": {},
     "output_type": "display_data"
    },
    {
     "data": {
      "application/vnd.jupyter.widget-view+json": {
       "model_id": "78636f9852d04d1783dd93e28ac036c0",
       "version_major": 2,
       "version_minor": 0
      },
      "text/plain": [
       "Validation: 0it [00:00, ?it/s]"
      ]
     },
     "metadata": {},
     "output_type": "display_data"
    },
    {
     "data": {
      "application/vnd.jupyter.widget-view+json": {
       "model_id": "0c79ad72efce433c8f15685e0bde4726",
       "version_major": 2,
       "version_minor": 0
      },
      "text/plain": [
       "Validation: 0it [00:00, ?it/s]"
      ]
     },
     "metadata": {},
     "output_type": "display_data"
    },
    {
     "data": {
      "application/vnd.jupyter.widget-view+json": {
       "model_id": "dd1c988649f547e191928511d03218e7",
       "version_major": 2,
       "version_minor": 0
      },
      "text/plain": [
       "Validation: 0it [00:00, ?it/s]"
      ]
     },
     "metadata": {},
     "output_type": "display_data"
    },
    {
     "name": "stderr",
     "output_type": "stream",
     "text": [
      "`Trainer.fit` stopped: `max_epochs=5` reached.\n"
     ]
    }
   ],
   "source": [
    "\n",
    "# Set random seed\n",
    "set_seed(args.seed)\n",
    "\n",
    "# Load model\n",
    "model = get_model(network_name=args.network_name)(args)\n",
    "\n",
    "# Get normalization constants\n",
    "train_mean, train_std = get_normalization_constants(root=args.data_path, seed=args.seed)\n",
    "\n",
    "# Define transforms for training\n",
    "train_transforms = transforms.Compose([\n",
    "    transforms.Resize((224, 224)),\n",
    "    # transforms.RandomHorizontalFlip(p=0.5),             # flips \"left-right\"\n",
    "    # transforms.RandomVerticalFlip(p=1.0),             # flips \"upside-down\"\n",
    "    # transforms.GaussianBlur(kernel_size=(5, 9), sigma=(0.1, 5)),\n",
    "    # transforms.RandomRotation(degrees=(60, 70)),\n",
    "    transforms.ToTensor(),\n",
    "    transforms.Normalize(\n",
    "        mean=train_mean, \n",
    "        std=train_std, \n",
    "    )\n",
    "])\n",
    "\n",
    "# Define transforms for test and validation\n",
    "test_transforms = transforms.Compose([\n",
    "    transforms.Resize((224, 224)),\n",
    "    transforms.ToTensor(),\n",
    "    transforms.Normalize(\n",
    "        mean=train_mean, \n",
    "        std=train_std, \n",
    "    )\n",
    "])\n",
    "\n",
    "# Get data loaders with applied transformations\n",
    "loaders = get_loaders(\n",
    "    root=args.data_path, \n",
    "    batch_size=args.batch_size, \n",
    "    seed=args.seed, \n",
    "    train_transforms=train_transforms, \n",
    "    test_transforms=test_transforms, \n",
    "    num_workers=args.num_workers,\n",
    ")\n",
    "\n",
    "# Set up logger\n",
    "tb_logger = TensorBoardLogger(\n",
    "    save_dir=f\"{args.log_path}/{args.experiment_name}\",\n",
    "    version=None,\n",
    "    name=args.network_name,\n",
    ")\n",
    "\n",
    "# Setup trainer\n",
    "trainer = pl.Trainer(\n",
    "    devices=args.devices, \n",
    "    accelerator=\"gpu\", \n",
    "    max_epochs = args.epochs,\n",
    "    log_every_n_steps = args.log_every_n,\n",
    "    callbacks=[model.model_checkpoint, model.lr_finder],\n",
    "    logger=tb_logger,\n",
    ") \n",
    "\n",
    "# Train model\n",
    "trainer.fit(\n",
    "    model=model,\n",
    "    train_dataloaders = loaders['train'],\n",
    "    val_dataloaders = loaders['validation'], \n",
    ") \n"
   ]
  },
  {
   "attachments": {},
   "cell_type": "markdown",
   "metadata": {},
   "source": [
    "# Model analysis"
   ]
  },
  {
   "cell_type": "code",
   "execution_count": null,
   "metadata": {},
   "outputs": [],
   "source": [
    "trainer.model.lr_finder.optimal_lr._optimal_idx"
   ]
  },
  {
   "cell_type": "code",
   "execution_count": 29,
   "metadata": {},
   "outputs": [
    {
     "data": {
      "image/png": "[encoded data removed]",
      "text/plain": [
       "<Figure size 640x480 with 1 Axes>"
      ]
     },
     "execution_count": 29,
     "metadata": {},
     "output_type": "execute_result"
    },
    {
     "data": {
      "image/png": "[encoded data removed]",
      "text/plain": [
       "<Figure size 640x480 with 1 Axes>"
      ]
     },
     "metadata": {},
     "output_type": "display_data"
    }
   ],
   "source": [
    "trainer.model.lr_finder.optimal_lr.plot()"
   ]
  },
  {
   "cell_type": "code",
   "execution_count": 6,
   "metadata": {},
   "outputs": [],
   "source": [
    "# manually you can save best checkpoints - \n",
    "trainer.save_checkpoint(f\"{args.save_path}/{args.experiment_name}/{args.network_name}.pt\")"
   ]
  },
  {
   "cell_type": "code",
   "execution_count": 7,
   "metadata": {},
   "outputs": [],
   "source": [
    "args.model_path = f\"{args.save_path}/{args.experiment_name}/{args.network_name}.pt\""
   ]
  },
  {
   "cell_type": "code",
   "execution_count": 8,
   "metadata": {},
   "outputs": [],
   "source": [
    "model_final = model.load_from_checkpoint(args.model_path, args=args)\n"
   ]
  },
  {
   "cell_type": "code",
   "execution_count": 68,
   "metadata": {},
   "outputs": [
    {
     "data": {
      "image/png": "[encoded data removed]",
      "text/plain": [
       "<Figure size 640x480 with 1 Axes>"
      ]
     },
     "metadata": {},
     "output_type": "display_data"
    }
   ],
   "source": [
    "sweep = trainer.model.lr_finder.optimal_lr.results\n",
    "\n",
    "plt.plot(sweep['lr'], sweep['loss'])\n",
    "plt.xlabel('Learning rate');plt.ylabel('Loss')\n",
    "plt.show()"
   ]
  }
 ],
 "metadata": {
  "kernelspec": {
   "display_name": "Python 3 (ipykernel)",
   "language": "python",
   "name": "python3"
  },
  "language_info": {
   "codemirror_mode": {
    "name": "ipython",
    "version": 3
   },
   "file_extension": ".py",
   "mimetype": "text/x-python",
   "name": "python",
   "nbconvert_exporter": "python",
   "pygments_lexer": "ipython3",
   "version": "3.10.7"
  },
  "orig_nbformat": 4
 },
 "nbformat": 4,
 "nbformat_minor": 2
}
