{
 "cells": [
  {
   "cell_type": "code",
   "execution_count": 40,
   "metadata": {},
   "outputs": [],
   "source": [
    "import torch\n",
    "\n",
    "from src.data.dataloader import get_loaders "
   ]
  },
  {
   "cell_type": "code",
   "execution_count": 44,
   "metadata": {},
   "outputs": [
    {
     "name": "stderr",
     "output_type": "stream",
     "text": [
      "Computing mean of training split...: 100%|█| 1638/1638 [00:06<00:00, 247.20\n",
      "Computing std. dev. of training split...: 100%|█| 1638/1638 [00:08<00:00, 1\n"
     ]
    },
    {
     "name": "stdout",
     "output_type": "stream",
     "text": [
      "\n",
      "Mean: tensor([0.5132, 0.4369, 0.3576])\n",
      "Std. dev.: tensor([0.0214, 0.0208, 0.0223])\n"
     ]
    }
   ],
   "source": [
    "loaders = get_loaders('/dtu/datasets1/02514/hotdog_nothotdog', batch_size=64, seed=0)"
   ]
  },
  {
   "cell_type": "code",
   "execution_count": 48,
   "metadata": {},
   "outputs": [],
   "source": [
    "trainloader = loaders['train']\n",
    "valloader   = loaders['validation']\n",
    "testloader  = loaders['test']"
   ]
  }
 ],
 "metadata": {
  "kernelspec": {
   "display_name": "Python 3 (ipykernel)",
   "language": "python",
   "name": "python3"
  },
  "language_info": {
   "codemirror_mode": {
    "name": "ipython",
    "version": 3
   },
   "file_extension": ".py",
   "mimetype": "text/x-python",
   "name": "python",
   "nbconvert_exporter": "python",
   "pygments_lexer": "ipython3",
   "version": "3.10.7"
  },
  "orig_nbformat": 4
 },
 "nbformat": 4,
 "nbformat_minor": 2
}
