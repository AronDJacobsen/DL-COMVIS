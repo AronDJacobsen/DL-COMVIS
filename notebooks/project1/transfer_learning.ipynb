{
 "cells": [
  {
   "cell_type": "code",
   "execution_count": 37,
   "metadata": {},
   "outputs": [],
   "source": [
    "# # Install a pip package in the current Jupyter kernel\n",
    "# import sys\n",
    "# !{sys.executable} -m pip install -e ."
   ]
  },
  {
   "cell_type": "code",
   "execution_count": 1,
   "metadata": {},
   "outputs": [],
   "source": [
    "import timm\n",
    "from timm.data import resolve_data_config\n",
    "from timm.data.transforms_factory import create_transform\n",
    "\n",
    "import torch\n",
    "from torch import nn\n",
    "import torchvision.transforms as transforms\n",
    "\n",
    "import pytorch_lightning as pl\n",
    "from torchmetrics.classification import BinaryAccuracy\n",
    "from pytorch_lightning.callbacks import ModelCheckpoint \n",
    "from pytorch_lightning.loggers import TensorBoardLogger\n",
    "\n",
    "from src.data.project1.dataloader import get_loaders, get_normalization_constants\n",
    "from src.utils import set_seed"
   ]
  },
  {
   "cell_type": "code",
   "execution_count": 39,
   "metadata": {},
   "outputs": [],
   "source": [
    "SEED = 0\n",
    "\n",
    "set_seed(SEED)\n",
    "\n",
    "device = torch.device('cuda' if torch.cuda.is_available() else 'cpu')\n",
    "accuracy = BinaryAccuracy().to(device)"
   ]
  },
  {
   "attachments": {},
   "cell_type": "markdown",
   "metadata": {},
   "source": [
    "## Loading model"
   ]
  },
  {
   "cell_type": "code",
   "execution_count": 11,
   "metadata": {},
   "outputs": [],
   "source": [
    "model = timm.create_model('efficientnet_b4', pretrained=True, num_classes=2)"
   ]
  },
  {
   "cell_type": "code",
   "execution_count": 12,
   "metadata": {},
   "outputs": [
    {
     "name": "stdout",
     "output_type": "stream",
     "text": [
      "8793672\n",
      "8758530\n"
     ]
    }
   ],
   "source": [
    "total_params = sum(p.numel() for p in model.parameters())  # Count total parameters\n",
    "percentage_to_freeze = 0.5  # or 0.2 for 40% or 20% respectively\n",
    "params_to_freeze = int(percentage_to_freeze * total_params)  # Calculate number of parameters to freeze\n",
    "\n",
    "frozen_params = 0\n",
    "non_frozen_params = 0\n",
    "for param in model.parameters():\n",
    "    if frozen_params < params_to_freeze:\n",
    "        param.requires_grad = False  # Freeze the parameter\n",
    "        frozen_params += param.numel()  # Update the count of frozen parameters\n",
    "    else:\n",
    "        non_frozen_params += param.numel()\n",
    "\n",
    "print(frozen_params)\n",
    "print(non_frozen_params)"
   ]
  },
  {
   "cell_type": "code",
   "execution_count": 14,
   "metadata": {},
   "outputs": [
    {
     "name": "stdout",
     "output_type": "stream",
     "text": [
      "Layer conv_stem.weight is frozen.\n",
      "Layer bn1.weight is frozen.\n",
      "Layer bn1.bias is frozen.\n",
      "Layer blocks.0.0.conv_dw.weight is frozen.\n",
      "Layer blocks.0.0.bn1.weight is frozen.\n",
      "Layer blocks.0.0.bn1.bias is frozen.\n",
      "Layer blocks.0.0.se.conv_reduce.weight is frozen.\n",
      "Layer blocks.0.0.se.conv_reduce.bias is frozen.\n",
      "Layer blocks.0.0.se.conv_expand.weight is frozen.\n",
      "Layer blocks.0.0.se.conv_expand.bias is frozen.\n",
      "Layer blocks.0.0.conv_pw.weight is frozen.\n",
      "Layer blocks.0.0.bn2.weight is frozen.\n",
      "Layer blocks.0.0.bn2.bias is frozen.\n",
      "Layer blocks.0.1.conv_dw.weight is frozen.\n",
      "Layer blocks.0.1.bn1.weight is frozen.\n",
      "Layer blocks.0.1.bn1.bias is frozen.\n",
      "Layer blocks.0.1.se.conv_reduce.weight is frozen.\n",
      "Layer blocks.0.1.se.conv_reduce.bias is frozen.\n",
      "Layer blocks.0.1.se.conv_expand.weight is frozen.\n",
      "Layer blocks.0.1.se.conv_expand.bias is frozen.\n",
      "Layer blocks.0.1.conv_pw.weight is frozen.\n",
      "Layer blocks.0.1.bn2.weight is frozen.\n",
      "Layer blocks.0.1.bn2.bias is frozen.\n",
      "Layer blocks.1.0.conv_pw.weight is frozen.\n",
      "Layer blocks.1.0.bn1.weight is frozen.\n",
      "Layer blocks.1.0.bn1.bias is frozen.\n",
      "Layer blocks.1.0.conv_dw.weight is frozen.\n",
      "Layer blocks.1.0.bn2.weight is frozen.\n",
      "Layer blocks.1.0.bn2.bias is frozen.\n",
      "Layer blocks.1.0.se.conv_reduce.weight is frozen.\n",
      "Layer blocks.1.0.se.conv_reduce.bias is frozen.\n",
      "Layer blocks.1.0.se.conv_expand.weight is frozen.\n",
      "Layer blocks.1.0.se.conv_expand.bias is frozen.\n",
      "Layer blocks.1.0.conv_pwl.weight is frozen.\n",
      "Layer blocks.1.0.bn3.weight is frozen.\n",
      "Layer blocks.1.0.bn3.bias is frozen.\n",
      "Layer blocks.1.1.conv_pw.weight is frozen.\n",
      "Layer blocks.1.1.bn1.weight is frozen.\n",
      "Layer blocks.1.1.bn1.bias is frozen.\n",
      "Layer blocks.1.1.conv_dw.weight is frozen.\n",
      "Layer blocks.1.1.bn2.weight is frozen.\n",
      "Layer blocks.1.1.bn2.bias is frozen.\n",
      "Layer blocks.1.1.se.conv_reduce.weight is frozen.\n",
      "Layer blocks.1.1.se.conv_reduce.bias is frozen.\n",
      "Layer blocks.1.1.se.conv_expand.weight is frozen.\n",
      "Layer blocks.1.1.se.conv_expand.bias is frozen.\n",
      "Layer blocks.1.1.conv_pwl.weight is frozen.\n",
      "Layer blocks.1.1.bn3.weight is frozen.\n",
      "Layer blocks.1.1.bn3.bias is frozen.\n",
      "Layer blocks.1.2.conv_pw.weight is frozen.\n",
      "Layer blocks.1.2.bn1.weight is frozen.\n",
      "Layer blocks.1.2.bn1.bias is frozen.\n",
      "Layer blocks.1.2.conv_dw.weight is frozen.\n",
      "Layer blocks.1.2.bn2.weight is frozen.\n",
      "Layer blocks.1.2.bn2.bias is frozen.\n",
      "Layer blocks.1.2.se.conv_reduce.weight is frozen.\n",
      "Layer blocks.1.2.se.conv_reduce.bias is frozen.\n",
      "Layer blocks.1.2.se.conv_expand.weight is frozen.\n",
      "Layer blocks.1.2.se.conv_expand.bias is frozen.\n",
      "Layer blocks.1.2.conv_pwl.weight is frozen.\n",
      "Layer blocks.1.2.bn3.weight is frozen.\n",
      "Layer blocks.1.2.bn3.bias is frozen.\n",
      "Layer blocks.1.3.conv_pw.weight is frozen.\n",
      "Layer blocks.1.3.bn1.weight is frozen.\n",
      "Layer blocks.1.3.bn1.bias is frozen.\n",
      "Layer blocks.1.3.conv_dw.weight is frozen.\n",
      "Layer blocks.1.3.bn2.weight is frozen.\n",
      "Layer blocks.1.3.bn2.bias is frozen.\n",
      "Layer blocks.1.3.se.conv_reduce.weight is frozen.\n",
      "Layer blocks.1.3.se.conv_reduce.bias is frozen.\n",
      "Layer blocks.1.3.se.conv_expand.weight is frozen.\n",
      "Layer blocks.1.3.se.conv_expand.bias is frozen.\n",
      "Layer blocks.1.3.conv_pwl.weight is frozen.\n",
      "Layer blocks.1.3.bn3.weight is frozen.\n",
      "Layer blocks.1.3.bn3.bias is frozen.\n",
      "Layer blocks.2.0.conv_pw.weight is frozen.\n",
      "Layer blocks.2.0.bn1.weight is frozen.\n",
      "Layer blocks.2.0.bn1.bias is frozen.\n",
      "Layer blocks.2.0.conv_dw.weight is frozen.\n",
      "Layer blocks.2.0.bn2.weight is frozen.\n",
      "Layer blocks.2.0.bn2.bias is frozen.\n",
      "Layer blocks.2.0.se.conv_reduce.weight is frozen.\n",
      "Layer blocks.2.0.se.conv_reduce.bias is frozen.\n",
      "Layer blocks.2.0.se.conv_expand.weight is frozen.\n",
      "Layer blocks.2.0.se.conv_expand.bias is frozen.\n",
      "Layer blocks.2.0.conv_pwl.weight is frozen.\n",
      "Layer blocks.2.0.bn3.weight is frozen.\n",
      "Layer blocks.2.0.bn3.bias is frozen.\n",
      "Layer blocks.2.1.conv_pw.weight is frozen.\n",
      "Layer blocks.2.1.bn1.weight is frozen.\n",
      "Layer blocks.2.1.bn1.bias is frozen.\n",
      "Layer blocks.2.1.conv_dw.weight is frozen.\n",
      "Layer blocks.2.1.bn2.weight is frozen.\n",
      "Layer blocks.2.1.bn2.bias is frozen.\n",
      "Layer blocks.2.1.se.conv_reduce.weight is frozen.\n",
      "Layer blocks.2.1.se.conv_reduce.bias is frozen.\n",
      "Layer blocks.2.1.se.conv_expand.weight is frozen.\n",
      "Layer blocks.2.1.se.conv_expand.bias is frozen.\n",
      "Layer blocks.2.1.conv_pwl.weight is frozen.\n",
      "Layer blocks.2.1.bn3.weight is frozen.\n",
      "Layer blocks.2.1.bn3.bias is frozen.\n",
      "Layer blocks.2.2.conv_pw.weight is frozen.\n",
      "Layer blocks.2.2.bn1.weight is frozen.\n",
      "Layer blocks.2.2.bn1.bias is frozen.\n",
      "Layer blocks.2.2.conv_dw.weight is frozen.\n",
      "Layer blocks.2.2.bn2.weight is frozen.\n",
      "Layer blocks.2.2.bn2.bias is frozen.\n",
      "Layer blocks.2.2.se.conv_reduce.weight is frozen.\n",
      "Layer blocks.2.2.se.conv_reduce.bias is frozen.\n",
      "Layer blocks.2.2.se.conv_expand.weight is frozen.\n",
      "Layer blocks.2.2.se.conv_expand.bias is frozen.\n",
      "Layer blocks.2.2.conv_pwl.weight is frozen.\n",
      "Layer blocks.2.2.bn3.weight is frozen.\n",
      "Layer blocks.2.2.bn3.bias is frozen.\n",
      "Layer blocks.2.3.conv_pw.weight is frozen.\n",
      "Layer blocks.2.3.bn1.weight is frozen.\n",
      "Layer blocks.2.3.bn1.bias is frozen.\n",
      "Layer blocks.2.3.conv_dw.weight is frozen.\n",
      "Layer blocks.2.3.bn2.weight is frozen.\n",
      "Layer blocks.2.3.bn2.bias is frozen.\n",
      "Layer blocks.2.3.se.conv_reduce.weight is frozen.\n",
      "Layer blocks.2.3.se.conv_reduce.bias is frozen.\n",
      "Layer blocks.2.3.se.conv_expand.weight is frozen.\n",
      "Layer blocks.2.3.se.conv_expand.bias is frozen.\n",
      "Layer blocks.2.3.conv_pwl.weight is frozen.\n",
      "Layer blocks.2.3.bn3.weight is frozen.\n",
      "Layer blocks.2.3.bn3.bias is frozen.\n",
      "Layer blocks.3.0.conv_pw.weight is frozen.\n",
      "Layer blocks.3.0.bn1.weight is frozen.\n",
      "Layer blocks.3.0.bn1.bias is frozen.\n",
      "Layer blocks.3.0.conv_dw.weight is frozen.\n",
      "Layer blocks.3.0.bn2.weight is frozen.\n",
      "Layer blocks.3.0.bn2.bias is frozen.\n",
      "Layer blocks.3.0.se.conv_reduce.weight is frozen.\n",
      "Layer blocks.3.0.se.conv_reduce.bias is frozen.\n",
      "Layer blocks.3.0.se.conv_expand.weight is frozen.\n",
      "Layer blocks.3.0.se.conv_expand.bias is frozen.\n",
      "Layer blocks.3.0.conv_pwl.weight is frozen.\n",
      "Layer blocks.3.0.bn3.weight is frozen.\n",
      "Layer blocks.3.0.bn3.bias is frozen.\n",
      "Layer blocks.3.1.conv_pw.weight is frozen.\n",
      "Layer blocks.3.1.bn1.weight is frozen.\n",
      "Layer blocks.3.1.bn1.bias is frozen.\n",
      "Layer blocks.3.1.conv_dw.weight is frozen.\n",
      "Layer blocks.3.1.bn2.weight is frozen.\n",
      "Layer blocks.3.1.bn2.bias is frozen.\n",
      "Layer blocks.3.1.se.conv_reduce.weight is frozen.\n",
      "Layer blocks.3.1.se.conv_reduce.bias is frozen.\n",
      "Layer blocks.3.1.se.conv_expand.weight is frozen.\n",
      "Layer blocks.3.1.se.conv_expand.bias is frozen.\n",
      "Layer blocks.3.1.conv_pwl.weight is frozen.\n",
      "Layer blocks.3.1.bn3.weight is frozen.\n",
      "Layer blocks.3.1.bn3.bias is frozen.\n",
      "Layer blocks.3.2.conv_pw.weight is frozen.\n",
      "Layer blocks.3.2.bn1.weight is frozen.\n",
      "Layer blocks.3.2.bn1.bias is frozen.\n",
      "Layer blocks.3.2.conv_dw.weight is frozen.\n",
      "Layer blocks.3.2.bn2.weight is frozen.\n",
      "Layer blocks.3.2.bn2.bias is frozen.\n",
      "Layer blocks.3.2.se.conv_reduce.weight is frozen.\n",
      "Layer blocks.3.2.se.conv_reduce.bias is frozen.\n",
      "Layer blocks.3.2.se.conv_expand.weight is frozen.\n",
      "Layer blocks.3.2.se.conv_expand.bias is frozen.\n",
      "Layer blocks.3.2.conv_pwl.weight is frozen.\n",
      "Layer blocks.3.2.bn3.weight is frozen.\n",
      "Layer blocks.3.2.bn3.bias is frozen.\n",
      "Layer blocks.3.3.conv_pw.weight is frozen.\n",
      "Layer blocks.3.3.bn1.weight is frozen.\n",
      "Layer blocks.3.3.bn1.bias is frozen.\n",
      "Layer blocks.3.3.conv_dw.weight is frozen.\n",
      "Layer blocks.3.3.bn2.weight is frozen.\n",
      "Layer blocks.3.3.bn2.bias is frozen.\n",
      "Layer blocks.3.3.se.conv_reduce.weight is frozen.\n",
      "Layer blocks.3.3.se.conv_reduce.bias is frozen.\n",
      "Layer blocks.3.3.se.conv_expand.weight is frozen.\n",
      "Layer blocks.3.3.se.conv_expand.bias is frozen.\n",
      "Layer blocks.3.3.conv_pwl.weight is frozen.\n",
      "Layer blocks.3.3.bn3.weight is frozen.\n",
      "Layer blocks.3.3.bn3.bias is frozen.\n",
      "Layer blocks.3.4.conv_pw.weight is frozen.\n",
      "Layer blocks.3.4.bn1.weight is frozen.\n",
      "Layer blocks.3.4.bn1.bias is frozen.\n",
      "Layer blocks.3.4.conv_dw.weight is frozen.\n",
      "Layer blocks.3.4.bn2.weight is frozen.\n",
      "Layer blocks.3.4.bn2.bias is frozen.\n",
      "Layer blocks.3.4.se.conv_reduce.weight is frozen.\n",
      "Layer blocks.3.4.se.conv_reduce.bias is frozen.\n",
      "Layer blocks.3.4.se.conv_expand.weight is frozen.\n",
      "Layer blocks.3.4.se.conv_expand.bias is frozen.\n",
      "Layer blocks.3.4.conv_pwl.weight is frozen.\n",
      "Layer blocks.3.4.bn3.weight is frozen.\n",
      "Layer blocks.3.4.bn3.bias is frozen.\n",
      "Layer blocks.3.5.conv_pw.weight is frozen.\n",
      "Layer blocks.3.5.bn1.weight is frozen.\n",
      "Layer blocks.3.5.bn1.bias is frozen.\n",
      "Layer blocks.3.5.conv_dw.weight is frozen.\n",
      "Layer blocks.3.5.bn2.weight is frozen.\n",
      "Layer blocks.3.5.bn2.bias is frozen.\n",
      "Layer blocks.3.5.se.conv_reduce.weight is frozen.\n",
      "Layer blocks.3.5.se.conv_reduce.bias is frozen.\n",
      "Layer blocks.3.5.se.conv_expand.weight is frozen.\n",
      "Layer blocks.3.5.se.conv_expand.bias is frozen.\n",
      "Layer blocks.3.5.conv_pwl.weight is frozen.\n",
      "Layer blocks.3.5.bn3.weight is frozen.\n",
      "Layer blocks.3.5.bn3.bias is frozen.\n",
      "Layer blocks.4.0.conv_pw.weight is frozen.\n",
      "Layer blocks.4.0.bn1.weight is frozen.\n",
      "Layer blocks.4.0.bn1.bias is frozen.\n",
      "Layer blocks.4.0.conv_dw.weight is frozen.\n",
      "Layer blocks.4.0.bn2.weight is frozen.\n",
      "Layer blocks.4.0.bn2.bias is frozen.\n",
      "Layer blocks.4.0.se.conv_reduce.weight is frozen.\n",
      "Layer blocks.4.0.se.conv_reduce.bias is frozen.\n",
      "Layer blocks.4.0.se.conv_expand.weight is frozen.\n",
      "Layer blocks.4.0.se.conv_expand.bias is frozen.\n",
      "Layer blocks.4.0.conv_pwl.weight is frozen.\n",
      "Layer blocks.4.0.bn3.weight is frozen.\n",
      "Layer blocks.4.0.bn3.bias is frozen.\n",
      "Layer blocks.4.1.conv_pw.weight is frozen.\n",
      "Layer blocks.4.1.bn1.weight is frozen.\n",
      "Layer blocks.4.1.bn1.bias is frozen.\n",
      "Layer blocks.4.1.conv_dw.weight is frozen.\n",
      "Layer blocks.4.1.bn2.weight is frozen.\n",
      "Layer blocks.4.1.bn2.bias is frozen.\n",
      "Layer blocks.4.1.se.conv_reduce.weight is frozen.\n",
      "Layer blocks.4.1.se.conv_reduce.bias is frozen.\n",
      "Layer blocks.4.1.se.conv_expand.weight is frozen.\n",
      "Layer blocks.4.1.se.conv_expand.bias is frozen.\n",
      "Layer blocks.4.1.conv_pwl.weight is frozen.\n",
      "Layer blocks.4.1.bn3.weight is frozen.\n",
      "Layer blocks.4.1.bn3.bias is frozen.\n",
      "Layer blocks.4.2.conv_pw.weight is frozen.\n",
      "Layer blocks.4.2.bn1.weight is frozen.\n",
      "Layer blocks.4.2.bn1.bias is frozen.\n",
      "Layer blocks.4.2.conv_dw.weight is frozen.\n",
      "Layer blocks.4.2.bn2.weight is frozen.\n",
      "Layer blocks.4.2.bn2.bias is frozen.\n",
      "Layer blocks.4.2.se.conv_reduce.weight is frozen.\n",
      "Layer blocks.4.2.se.conv_reduce.bias is frozen.\n",
      "Layer blocks.4.2.se.conv_expand.weight is frozen.\n",
      "Layer blocks.4.2.se.conv_expand.bias is frozen.\n",
      "Layer blocks.4.2.conv_pwl.weight is frozen.\n",
      "Layer blocks.4.2.bn3.weight is frozen.\n",
      "Layer blocks.4.2.bn3.bias is frozen.\n",
      "Layer blocks.4.3.conv_pw.weight is frozen.\n",
      "Layer blocks.4.3.bn1.weight is frozen.\n",
      "Layer blocks.4.3.bn1.bias is frozen.\n",
      "Layer blocks.4.3.conv_dw.weight is frozen.\n",
      "Layer blocks.4.3.bn2.weight is frozen.\n",
      "Layer blocks.4.3.bn2.bias is frozen.\n",
      "Layer blocks.4.3.se.conv_reduce.weight is frozen.\n",
      "Layer blocks.4.3.se.conv_reduce.bias is frozen.\n",
      "Layer blocks.4.3.se.conv_expand.weight is frozen.\n",
      "Layer blocks.4.3.se.conv_expand.bias is frozen.\n",
      "Layer blocks.4.3.conv_pwl.weight is frozen.\n",
      "Layer blocks.4.3.bn3.weight is frozen.\n",
      "Layer blocks.4.3.bn3.bias is frozen.\n",
      "Layer blocks.4.4.conv_pw.weight is frozen.\n",
      "Layer blocks.4.4.bn1.weight is frozen.\n",
      "Layer blocks.4.4.bn1.bias is frozen.\n",
      "Layer blocks.4.4.conv_dw.weight is frozen.\n",
      "Layer blocks.4.4.bn2.weight is frozen.\n",
      "Layer blocks.4.4.bn2.bias is frozen.\n",
      "Layer blocks.4.4.se.conv_reduce.weight is frozen.\n",
      "Layer blocks.4.4.se.conv_reduce.bias is frozen.\n",
      "Layer blocks.4.4.se.conv_expand.weight is frozen.\n",
      "Layer blocks.4.4.se.conv_expand.bias is frozen.\n",
      "Layer blocks.4.4.conv_pwl.weight is frozen.\n",
      "Layer blocks.4.4.bn3.weight is frozen.\n",
      "Layer blocks.4.4.bn3.bias is frozen.\n",
      "Layer blocks.4.5.conv_pw.weight is frozen.\n",
      "Layer blocks.4.5.bn1.weight is frozen.\n",
      "Layer blocks.4.5.bn1.bias is frozen.\n",
      "Layer blocks.4.5.conv_dw.weight is frozen.\n",
      "Layer blocks.4.5.bn2.weight is frozen.\n",
      "Layer blocks.4.5.bn2.bias is frozen.\n",
      "Layer blocks.4.5.se.conv_reduce.weight is frozen.\n",
      "Layer blocks.4.5.se.conv_reduce.bias is frozen.\n",
      "Layer blocks.4.5.se.conv_expand.weight is frozen.\n",
      "Layer blocks.4.5.se.conv_expand.bias is frozen.\n",
      "Layer blocks.4.5.conv_pwl.weight is frozen.\n",
      "Layer blocks.4.5.bn3.weight is frozen.\n",
      "Layer blocks.4.5.bn3.bias is frozen.\n",
      "Layer blocks.5.0.conv_pw.weight is frozen.\n",
      "Layer blocks.5.0.bn1.weight is frozen.\n",
      "Layer blocks.5.0.bn1.bias is frozen.\n",
      "Layer blocks.5.0.conv_dw.weight is frozen.\n",
      "Layer blocks.5.0.bn2.weight is frozen.\n",
      "Layer blocks.5.0.bn2.bias is frozen.\n",
      "Layer blocks.5.0.se.conv_reduce.weight is frozen.\n",
      "Layer blocks.5.0.se.conv_reduce.bias is frozen.\n",
      "Layer blocks.5.0.se.conv_expand.weight is frozen.\n",
      "Layer blocks.5.0.se.conv_expand.bias is frozen.\n",
      "Layer blocks.5.0.conv_pwl.weight is frozen.\n",
      "Layer blocks.5.0.bn3.weight is frozen.\n",
      "Layer blocks.5.0.bn3.bias is frozen.\n",
      "Layer blocks.5.1.conv_pw.weight is frozen.\n",
      "Layer blocks.5.1.bn1.weight is frozen.\n",
      "Layer blocks.5.1.bn1.bias is frozen.\n",
      "Layer blocks.5.1.conv_dw.weight is frozen.\n",
      "Layer blocks.5.1.bn2.weight is frozen.\n",
      "Layer blocks.5.1.bn2.bias is frozen.\n",
      "Layer blocks.5.1.se.conv_reduce.weight is frozen.\n",
      "Layer blocks.5.1.se.conv_reduce.bias is frozen.\n",
      "Layer blocks.5.1.se.conv_expand.weight is frozen.\n",
      "Layer blocks.5.1.se.conv_expand.bias is frozen.\n",
      "Layer blocks.5.1.conv_pwl.weight is frozen.\n",
      "Layer blocks.5.1.bn3.weight is frozen.\n",
      "Layer blocks.5.1.bn3.bias is frozen.\n",
      "Layer blocks.5.2.conv_pw.weight is frozen.\n",
      "Layer blocks.5.2.bn1.weight is frozen.\n",
      "Layer blocks.5.2.bn1.bias is frozen.\n",
      "Layer blocks.5.2.conv_dw.weight is frozen.\n",
      "Layer blocks.5.2.bn2.weight is frozen.\n",
      "Layer blocks.5.2.bn2.bias is frozen.\n",
      "Layer blocks.5.2.se.conv_reduce.weight is frozen.\n",
      "Layer blocks.5.2.se.conv_reduce.bias is frozen.\n",
      "Layer blocks.5.2.se.conv_expand.weight is frozen.\n",
      "Layer blocks.5.2.se.conv_expand.bias is frozen.\n",
      "Layer blocks.5.2.conv_pwl.weight is frozen.\n",
      "Layer blocks.5.2.bn3.weight is frozen.\n",
      "Layer blocks.5.2.bn3.bias is frozen.\n",
      "Layer blocks.5.3.conv_pw.weight is frozen.\n",
      "Layer blocks.5.3.bn1.weight is frozen.\n",
      "Layer blocks.5.3.bn1.bias is frozen.\n",
      "Layer blocks.5.3.conv_dw.weight is frozen.\n",
      "Layer blocks.5.3.bn2.weight is frozen.\n",
      "Layer blocks.5.3.bn2.bias is frozen.\n",
      "Layer blocks.5.3.se.conv_reduce.weight is frozen.\n",
      "Layer blocks.5.3.se.conv_reduce.bias is frozen.\n",
      "Layer blocks.5.3.se.conv_expand.weight is frozen.\n",
      "Layer blocks.5.3.se.conv_expand.bias is frozen.\n",
      "Layer blocks.5.3.conv_pwl.weight is frozen.\n",
      "Layer blocks.5.3.bn3.weight is frozen.\n",
      "Layer blocks.5.3.bn3.bias is frozen.\n",
      "Layer blocks.5.4.conv_pw.weight is frozen.\n",
      "Layer blocks.5.4.bn1.weight is frozen.\n",
      "Layer blocks.5.4.bn1.bias is frozen.\n",
      "Layer blocks.5.4.conv_dw.weight is frozen.\n",
      "Layer blocks.5.4.bn2.weight is frozen.\n",
      "Layer blocks.5.4.bn2.bias is frozen.\n",
      "Layer blocks.5.4.se.conv_reduce.weight is frozen.\n",
      "Layer blocks.5.4.se.conv_reduce.bias is frozen.\n",
      "Layer blocks.5.4.se.conv_expand.weight is frozen.\n",
      "Layer blocks.5.4.se.conv_expand.bias is frozen.\n",
      "Layer blocks.5.4.conv_pwl.weight is frozen.\n"
     ]
    }
   ],
   "source": [
    "for name, param in model.named_parameters():\n",
    "    if not param.requires_grad:\n",
    "        print(f\"Layer {name} is frozen.\")"
   ]
  },
  {
   "cell_type": "code",
   "execution_count": 5,
   "metadata": {},
   "outputs": [
    {
     "name": "stdout",
     "output_type": "stream",
     "text": [
      "Layer blocks.4.1.se.conv_reduce.bias is frozen.\n",
      "Layer blocks.4.1.se.conv_expand.weight is frozen.\n",
      "Layer blocks.4.1.se.conv_expand.bias is frozen.\n",
      "Layer blocks.4.1.conv_pwl.weight is frozen.\n",
      "Layer blocks.4.1.bn3.weight is frozen.\n",
      "Layer blocks.4.1.bn3.bias is frozen.\n",
      "Layer blocks.4.2.conv_pw.weight is frozen.\n",
      "Layer blocks.4.2.bn1.weight is frozen.\n",
      "Layer blocks.4.2.bn1.bias is frozen.\n",
      "Layer blocks.4.2.conv_dw.weight is frozen.\n",
      "Layer blocks.4.2.bn2.weight is frozen.\n",
      "Layer blocks.4.2.bn2.bias is frozen.\n",
      "Layer blocks.4.2.se.conv_reduce.weight is frozen.\n",
      "Layer blocks.4.2.se.conv_reduce.bias is frozen.\n",
      "Layer blocks.4.2.se.conv_expand.weight is frozen.\n",
      "Layer blocks.4.2.se.conv_expand.bias is frozen.\n",
      "Layer blocks.4.2.conv_pwl.weight is frozen.\n",
      "Layer blocks.4.2.bn3.weight is frozen.\n",
      "Layer blocks.4.2.bn3.bias is frozen.\n",
      "Layer blocks.4.3.conv_pw.weight is frozen.\n",
      "Layer blocks.4.3.bn1.weight is frozen.\n",
      "Layer blocks.4.3.bn1.bias is frozen.\n",
      "Layer blocks.4.3.conv_dw.weight is frozen.\n",
      "Layer blocks.4.3.bn2.weight is frozen.\n",
      "Layer blocks.4.3.bn2.bias is frozen.\n",
      "Layer blocks.4.3.se.conv_reduce.weight is frozen.\n",
      "Layer blocks.4.3.se.conv_reduce.bias is frozen.\n",
      "Layer blocks.4.3.se.conv_expand.weight is frozen.\n",
      "Layer blocks.4.3.se.conv_expand.bias is frozen.\n",
      "Layer blocks.4.3.conv_pwl.weight is frozen.\n",
      "Layer blocks.4.3.bn3.weight is frozen.\n",
      "Layer blocks.4.3.bn3.bias is frozen.\n",
      "Layer blocks.4.4.conv_pw.weight is frozen.\n",
      "Layer blocks.4.4.bn1.weight is frozen.\n",
      "Layer blocks.4.4.bn1.bias is frozen.\n",
      "Layer blocks.4.4.conv_dw.weight is frozen.\n",
      "Layer blocks.4.4.bn2.weight is frozen.\n",
      "Layer blocks.4.4.bn2.bias is frozen.\n",
      "Layer blocks.4.4.se.conv_reduce.weight is frozen.\n",
      "Layer blocks.4.4.se.conv_reduce.bias is frozen.\n",
      "Layer blocks.4.4.se.conv_expand.weight is frozen.\n",
      "Layer blocks.4.4.se.conv_expand.bias is frozen.\n",
      "Layer blocks.4.4.conv_pwl.weight is frozen.\n",
      "Layer blocks.4.4.bn3.weight is frozen.\n",
      "Layer blocks.4.4.bn3.bias is frozen.\n",
      "Layer blocks.4.5.conv_pw.weight is frozen.\n",
      "Layer blocks.4.5.bn1.weight is frozen.\n",
      "Layer blocks.4.5.bn1.bias is frozen.\n",
      "Layer blocks.4.5.conv_dw.weight is frozen.\n",
      "Layer blocks.4.5.bn2.weight is frozen.\n",
      "Layer blocks.4.5.bn2.bias is frozen.\n",
      "Layer blocks.4.5.se.conv_reduce.weight is frozen.\n",
      "Layer blocks.4.5.se.conv_reduce.bias is frozen.\n",
      "Layer blocks.4.5.se.conv_expand.weight is frozen.\n",
      "Layer blocks.4.5.se.conv_expand.bias is frozen.\n",
      "Layer blocks.4.5.conv_pwl.weight is frozen.\n",
      "Layer blocks.4.5.bn3.weight is frozen.\n",
      "Layer blocks.4.5.bn3.bias is frozen.\n",
      "Layer blocks.5.0.conv_pw.weight is frozen.\n",
      "Layer blocks.5.0.bn1.weight is frozen.\n",
      "Layer blocks.5.0.bn1.bias is frozen.\n",
      "Layer blocks.5.0.conv_dw.weight is frozen.\n",
      "Layer blocks.5.0.bn2.weight is frozen.\n",
      "Layer blocks.5.0.bn2.bias is frozen.\n",
      "Layer blocks.5.0.se.conv_reduce.weight is frozen.\n",
      "Layer blocks.5.0.se.conv_reduce.bias is frozen.\n",
      "Layer blocks.5.0.se.conv_expand.weight is frozen.\n",
      "Layer blocks.5.0.se.conv_expand.bias is frozen.\n",
      "Layer blocks.5.0.conv_pwl.weight is frozen.\n",
      "Layer blocks.5.0.bn3.weight is frozen.\n",
      "Layer blocks.5.0.bn3.bias is frozen.\n",
      "Layer blocks.5.1.conv_pw.weight is frozen.\n",
      "Layer blocks.5.1.bn1.weight is frozen.\n",
      "Layer blocks.5.1.bn1.bias is frozen.\n",
      "Layer blocks.5.1.conv_dw.weight is frozen.\n",
      "Layer blocks.5.1.bn2.weight is frozen.\n",
      "Layer blocks.5.1.bn2.bias is frozen.\n",
      "Layer blocks.5.1.se.conv_reduce.weight is frozen.\n",
      "Layer blocks.5.1.se.conv_reduce.bias is frozen.\n",
      "Layer blocks.5.1.se.conv_expand.weight is frozen.\n",
      "Layer blocks.5.1.se.conv_expand.bias is frozen.\n",
      "Layer blocks.5.1.conv_pwl.weight is frozen.\n",
      "Layer blocks.5.1.bn3.weight is frozen.\n",
      "Layer blocks.5.1.bn3.bias is frozen.\n",
      "Layer blocks.5.2.conv_pw.weight is frozen.\n",
      "Layer blocks.5.2.bn1.weight is frozen.\n",
      "Layer blocks.5.2.bn1.bias is frozen.\n",
      "Layer blocks.5.2.conv_dw.weight is frozen.\n",
      "Layer blocks.5.2.bn2.weight is frozen.\n",
      "Layer blocks.5.2.bn2.bias is frozen.\n",
      "Layer blocks.5.2.se.conv_reduce.weight is frozen.\n",
      "Layer blocks.5.2.se.conv_reduce.bias is frozen.\n",
      "Layer blocks.5.2.se.conv_expand.weight is frozen.\n",
      "Layer blocks.5.2.se.conv_expand.bias is frozen.\n",
      "Layer blocks.5.2.conv_pwl.weight is frozen.\n",
      "Layer blocks.5.2.bn3.weight is frozen.\n",
      "Layer blocks.5.2.bn3.bias is frozen.\n",
      "Layer blocks.5.3.conv_pw.weight is frozen.\n",
      "Layer blocks.5.3.bn1.weight is frozen.\n",
      "Layer blocks.5.3.bn1.bias is frozen.\n",
      "Layer blocks.5.3.conv_dw.weight is frozen.\n",
      "Layer blocks.5.3.bn2.weight is frozen.\n",
      "Layer blocks.5.3.bn2.bias is frozen.\n",
      "Layer blocks.5.3.se.conv_reduce.weight is frozen.\n",
      "Layer blocks.5.3.se.conv_reduce.bias is frozen.\n",
      "Layer blocks.5.3.se.conv_expand.weight is frozen.\n",
      "Layer blocks.5.3.se.conv_expand.bias is frozen.\n",
      "Layer blocks.5.3.conv_pwl.weight is frozen.\n",
      "Layer blocks.5.3.bn3.weight is frozen.\n",
      "Layer blocks.5.3.bn3.bias is frozen.\n",
      "Layer blocks.5.4.conv_pw.weight is frozen.\n",
      "Layer blocks.5.4.bn1.weight is frozen.\n",
      "Layer blocks.5.4.bn1.bias is frozen.\n",
      "Layer blocks.5.4.conv_dw.weight is frozen.\n",
      "Layer blocks.5.4.bn2.weight is frozen.\n",
      "Layer blocks.5.4.bn2.bias is frozen.\n",
      "Layer blocks.5.4.se.conv_reduce.weight is frozen.\n",
      "Layer blocks.5.4.se.conv_reduce.bias is frozen.\n",
      "Layer blocks.5.4.se.conv_expand.weight is frozen.\n",
      "Layer blocks.5.4.se.conv_expand.bias is frozen.\n",
      "Layer blocks.5.4.conv_pwl.weight is frozen.\n",
      "Layer blocks.5.4.bn3.weight is frozen.\n",
      "Layer blocks.5.4.bn3.bias is frozen.\n",
      "Layer blocks.5.5.conv_pw.weight is frozen.\n",
      "Layer blocks.5.5.bn1.weight is frozen.\n",
      "Layer blocks.5.5.bn1.bias is frozen.\n",
      "Layer blocks.5.5.conv_dw.weight is frozen.\n",
      "Layer blocks.5.5.bn2.weight is frozen.\n",
      "Layer blocks.5.5.bn2.bias is frozen.\n",
      "Layer blocks.5.5.se.conv_reduce.weight is frozen.\n",
      "Layer blocks.5.5.se.conv_reduce.bias is frozen.\n",
      "Layer blocks.5.5.se.conv_expand.weight is frozen.\n",
      "Layer blocks.5.5.se.conv_expand.bias is frozen.\n",
      "Layer blocks.5.5.conv_pwl.weight is frozen.\n",
      "Layer blocks.5.5.bn3.weight is frozen.\n",
      "Layer blocks.5.5.bn3.bias is frozen.\n",
      "Layer blocks.5.6.conv_pw.weight is frozen.\n",
      "Layer blocks.5.6.bn1.weight is frozen.\n",
      "Layer blocks.5.6.bn1.bias is frozen.\n",
      "Layer blocks.5.6.conv_dw.weight is frozen.\n",
      "Layer blocks.5.6.bn2.weight is frozen.\n",
      "Layer blocks.5.6.bn2.bias is frozen.\n",
      "Layer blocks.5.6.se.conv_reduce.weight is frozen.\n",
      "Layer blocks.5.6.se.conv_reduce.bias is frozen.\n",
      "Layer blocks.5.6.se.conv_expand.weight is frozen.\n",
      "Layer blocks.5.6.se.conv_expand.bias is frozen.\n",
      "Layer blocks.5.6.conv_pwl.weight is frozen.\n",
      "Layer blocks.5.6.bn3.weight is frozen.\n",
      "Layer blocks.5.6.bn3.bias is frozen.\n",
      "Layer blocks.5.7.conv_pw.weight is frozen.\n",
      "Layer blocks.5.7.bn1.weight is frozen.\n",
      "Layer blocks.5.7.bn1.bias is frozen.\n",
      "Layer blocks.5.7.conv_dw.weight is frozen.\n",
      "Layer blocks.5.7.bn2.weight is frozen.\n",
      "Layer blocks.5.7.bn2.bias is frozen.\n",
      "Layer blocks.5.7.se.conv_reduce.weight is frozen.\n",
      "Layer blocks.5.7.se.conv_reduce.bias is frozen.\n",
      "Layer blocks.5.7.se.conv_expand.weight is frozen.\n",
      "Layer blocks.5.7.se.conv_expand.bias is frozen.\n",
      "Layer blocks.5.7.conv_pwl.weight is frozen.\n",
      "Layer blocks.5.7.bn3.weight is frozen.\n",
      "Layer blocks.5.7.bn3.bias is frozen.\n",
      "Layer blocks.6.0.conv_pw.weight is frozen.\n",
      "Layer blocks.6.0.bn1.weight is frozen.\n",
      "Layer blocks.6.0.bn1.bias is frozen.\n",
      "Layer blocks.6.0.conv_dw.weight is frozen.\n",
      "Layer blocks.6.0.bn2.weight is frozen.\n",
      "Layer blocks.6.0.bn2.bias is frozen.\n",
      "Layer blocks.6.0.se.conv_reduce.weight is frozen.\n",
      "Layer blocks.6.0.se.conv_reduce.bias is frozen.\n",
      "Layer blocks.6.0.se.conv_expand.weight is frozen.\n",
      "Layer blocks.6.0.se.conv_expand.bias is frozen.\n",
      "Layer blocks.6.0.conv_pwl.weight is frozen.\n",
      "Layer blocks.6.0.bn3.weight is frozen.\n",
      "Layer blocks.6.0.bn3.bias is frozen.\n",
      "Layer blocks.6.1.conv_pw.weight is frozen.\n",
      "Layer blocks.6.1.bn1.weight is frozen.\n",
      "Layer blocks.6.1.bn1.bias is frozen.\n",
      "Layer blocks.6.1.conv_dw.weight is frozen.\n",
      "Layer blocks.6.1.bn2.weight is frozen.\n",
      "Layer blocks.6.1.bn2.bias is frozen.\n",
      "Layer blocks.6.1.se.conv_reduce.weight is frozen.\n",
      "Layer blocks.6.1.se.conv_reduce.bias is frozen.\n",
      "Layer blocks.6.1.se.conv_expand.weight is frozen.\n",
      "Layer blocks.6.1.se.conv_expand.bias is frozen.\n",
      "Layer blocks.6.1.conv_pwl.weight is frozen.\n",
      "Layer blocks.6.1.bn3.weight is frozen.\n",
      "Layer blocks.6.1.bn3.bias is frozen.\n",
      "Layer conv_head.weight is frozen.\n",
      "Layer bn2.weight is frozen.\n",
      "Layer bn2.bias is frozen.\n",
      "Layer classifier.weight is frozen.\n",
      "Layer classifier.bias is frozen.\n",
      "193\n"
     ]
    }
   ],
   "source": [
    "i = 0\n",
    "for name, param in model.named_parameters():\n",
    "    if not not param.requires_grad:\n",
    "        i += 1\n",
    "        print(f\"Layer {name} is frozen.\")\n",
    "\n",
    "print(i)"
   ]
  },
  {
   "attachments": {},
   "cell_type": "markdown",
   "metadata": {},
   "source": [
    "## Dataloader"
   ]
  },
  {
   "cell_type": "code",
   "execution_count": 56,
   "metadata": {},
   "outputs": [
    {
     "name": "stderr",
     "output_type": "stream",
     "text": [
      "Computing mean of training split...:  47%|▍| 776/1638 [00:02<00:03, 262.89i\n"
     ]
    },
    {
     "ename": "KeyboardInterrupt",
     "evalue": "",
     "output_type": "error",
     "traceback": [
      "\u001b[0;31m---------------------------------------------------------------------------\u001b[0m",
      "\u001b[0;31mKeyboardInterrupt\u001b[0m                         Traceback (most recent call last)",
      "Cell \u001b[0;32mIn[56], line 6\u001b[0m\n\u001b[1;32m      3\u001b[0m BATCH_SIZE \u001b[39m=\u001b[39m \u001b[39m32\u001b[39m\n\u001b[1;32m      5\u001b[0m \u001b[39m# Get normalization constants\u001b[39;00m\n\u001b[0;32m----> 6\u001b[0m train_mean, train_std \u001b[39m=\u001b[39m get_normalization_constants(root\u001b[39m=\u001b[39;49mROOT, seed\u001b[39m=\u001b[39;49mSEED)\n\u001b[1;32m      8\u001b[0m \u001b[39m# Define transforms for training\u001b[39;00m\n\u001b[1;32m      9\u001b[0m train_transforms \u001b[39m=\u001b[39m transforms\u001b[39m.\u001b[39mCompose([\n\u001b[1;32m     10\u001b[0m     transforms\u001b[39m.\u001b[39mResize((\u001b[39m224\u001b[39m, \u001b[39m224\u001b[39m)),\n\u001b[1;32m     11\u001b[0m     transforms\u001b[39m.\u001b[39mRandomHorizontalFlip(p\u001b[39m=\u001b[39m\u001b[39m0.5\u001b[39m),         \u001b[39m# flips \"left-right\"\u001b[39;00m\n\u001b[0;32m   (...)\u001b[0m\n\u001b[1;32m     19\u001b[0m     )\n\u001b[1;32m     20\u001b[0m ])\n",
      "File \u001b[0;32m/work3/s194253/02514/DL-COMVIS/src/data/project1/dataloader.py:48\u001b[0m, in \u001b[0;36mget_normalization_constants\u001b[0;34m(root, seed)\u001b[0m\n\u001b[1;32m     45\u001b[0m trainset    \u001b[39m=\u001b[39m torch\u001b[39m.\u001b[39mutils\u001b[39m.\u001b[39mdata\u001b[39m.\u001b[39mSubset(trainvalset, \u001b[39mrange\u001b[39m(N_val, N_trainval))     \n\u001b[1;32m     47\u001b[0m \u001b[39m# Compute means and standard deviations from training set\u001b[39;00m\n\u001b[0;32m---> 48\u001b[0m train_mean \u001b[39m=\u001b[39m torch\u001b[39m.\u001b[39mstack([t\u001b[39m.\u001b[39mmean(\u001b[39m1\u001b[39m)\u001b[39m.\u001b[39mmean(\u001b[39m1\u001b[39m) \u001b[39mfor\u001b[39;00m t, c \u001b[39min\u001b[39;00m tqdm(trainset, desc\u001b[39m=\u001b[39m\u001b[39m'\u001b[39m\u001b[39mComputing mean of training split...\u001b[39m\u001b[39m'\u001b[39m)])\u001b[39m.\u001b[39mmean(\u001b[39m0\u001b[39m)\n\u001b[1;32m     49\u001b[0m train_std  \u001b[39m=\u001b[39m torch\u001b[39m.\u001b[39mstack([t\u001b[39m.\u001b[39mstd(\u001b[39m1\u001b[39m)\u001b[39m.\u001b[39mstd(\u001b[39m1\u001b[39m) \u001b[39mfor\u001b[39;00m t, c \u001b[39min\u001b[39;00m tqdm(trainset, desc\u001b[39m=\u001b[39m\u001b[39m'\u001b[39m\u001b[39mComputing std. dev. of training split...\u001b[39m\u001b[39m'\u001b[39m)])\u001b[39m.\u001b[39mstd(\u001b[39m0\u001b[39m)\n\u001b[1;32m     50\u001b[0m \u001b[39mprint\u001b[39m(\u001b[39mf\u001b[39m\u001b[39m\"\u001b[39m\u001b[39m\\n\u001b[39;00m\u001b[39mMean: \u001b[39m\u001b[39m{\u001b[39;00mtrain_mean\u001b[39m}\u001b[39;00m\u001b[39m\\n\u001b[39;00m\u001b[39mStd. dev.: \u001b[39m\u001b[39m{\u001b[39;00mtrain_std\u001b[39m}\u001b[39;00m\u001b[39m\"\u001b[39m)    \n",
      "File \u001b[0;32m/work3/s194253/02514/DL-COMVIS/src/data/project1/dataloader.py:48\u001b[0m, in \u001b[0;36m<listcomp>\u001b[0;34m(.0)\u001b[0m\n\u001b[1;32m     45\u001b[0m trainset    \u001b[39m=\u001b[39m torch\u001b[39m.\u001b[39mutils\u001b[39m.\u001b[39mdata\u001b[39m.\u001b[39mSubset(trainvalset, \u001b[39mrange\u001b[39m(N_val, N_trainval))     \n\u001b[1;32m     47\u001b[0m \u001b[39m# Compute means and standard deviations from training set\u001b[39;00m\n\u001b[0;32m---> 48\u001b[0m train_mean \u001b[39m=\u001b[39m torch\u001b[39m.\u001b[39mstack([t\u001b[39m.\u001b[39mmean(\u001b[39m1\u001b[39m)\u001b[39m.\u001b[39mmean(\u001b[39m1\u001b[39m) \u001b[39mfor\u001b[39;00m t, c \u001b[39min\u001b[39;00m tqdm(trainset, desc\u001b[39m=\u001b[39m\u001b[39m'\u001b[39m\u001b[39mComputing mean of training split...\u001b[39m\u001b[39m'\u001b[39m)])\u001b[39m.\u001b[39mmean(\u001b[39m0\u001b[39m)\n\u001b[1;32m     49\u001b[0m train_std  \u001b[39m=\u001b[39m torch\u001b[39m.\u001b[39mstack([t\u001b[39m.\u001b[39mstd(\u001b[39m1\u001b[39m)\u001b[39m.\u001b[39mstd(\u001b[39m1\u001b[39m) \u001b[39mfor\u001b[39;00m t, c \u001b[39min\u001b[39;00m tqdm(trainset, desc\u001b[39m=\u001b[39m\u001b[39m'\u001b[39m\u001b[39mComputing std. dev. of training split...\u001b[39m\u001b[39m'\u001b[39m)])\u001b[39m.\u001b[39mstd(\u001b[39m0\u001b[39m)\n\u001b[1;32m     50\u001b[0m \u001b[39mprint\u001b[39m(\u001b[39mf\u001b[39m\u001b[39m\"\u001b[39m\u001b[39m\\n\u001b[39;00m\u001b[39mMean: \u001b[39m\u001b[39m{\u001b[39;00mtrain_mean\u001b[39m}\u001b[39;00m\u001b[39m\\n\u001b[39;00m\u001b[39mStd. dev.: \u001b[39m\u001b[39m{\u001b[39;00mtrain_std\u001b[39m}\u001b[39;00m\u001b[39m\"\u001b[39m)    \n",
      "File \u001b[0;32m/work3/s194253/02514/DL-COMVIS/venv/lib/python3.10/site-packages/tqdm/std.py:1178\u001b[0m, in \u001b[0;36mtqdm.__iter__\u001b[0;34m(self)\u001b[0m\n\u001b[1;32m   1175\u001b[0m time \u001b[39m=\u001b[39m \u001b[39mself\u001b[39m\u001b[39m.\u001b[39m_time\n\u001b[1;32m   1177\u001b[0m \u001b[39mtry\u001b[39;00m:\n\u001b[0;32m-> 1178\u001b[0m     \u001b[39mfor\u001b[39;00m obj \u001b[39min\u001b[39;00m iterable:\n\u001b[1;32m   1179\u001b[0m         \u001b[39myield\u001b[39;00m obj\n\u001b[1;32m   1180\u001b[0m         \u001b[39m# Update and possibly print the progressbar.\u001b[39;00m\n\u001b[1;32m   1181\u001b[0m         \u001b[39m# Note: does not call self.update(1) for speed optimisation.\u001b[39;00m\n",
      "File \u001b[0;32m/work3/s194253/02514/DL-COMVIS/venv/lib/python3.10/site-packages/torch/utils/data/dataset.py:298\u001b[0m, in \u001b[0;36mSubset.__getitem__\u001b[0;34m(self, idx)\u001b[0m\n\u001b[1;32m    296\u001b[0m \u001b[39mif\u001b[39;00m \u001b[39misinstance\u001b[39m(idx, \u001b[39mlist\u001b[39m):\n\u001b[1;32m    297\u001b[0m     \u001b[39mreturn\u001b[39;00m \u001b[39mself\u001b[39m\u001b[39m.\u001b[39mdataset[[\u001b[39mself\u001b[39m\u001b[39m.\u001b[39mindices[i] \u001b[39mfor\u001b[39;00m i \u001b[39min\u001b[39;00m idx]]\n\u001b[0;32m--> 298\u001b[0m \u001b[39mreturn\u001b[39;00m \u001b[39mself\u001b[39;49m\u001b[39m.\u001b[39;49mdataset[\u001b[39mself\u001b[39;49m\u001b[39m.\u001b[39;49mindices[idx]]\n",
      "File \u001b[0;32m/work3/s194253/02514/DL-COMVIS/venv/lib/python3.10/site-packages/torchvision/datasets/folder.py:229\u001b[0m, in \u001b[0;36mDatasetFolder.__getitem__\u001b[0;34m(self, index)\u001b[0m\n\u001b[1;32m    221\u001b[0m \u001b[39m\u001b[39m\u001b[39m\"\"\"\u001b[39;00m\n\u001b[1;32m    222\u001b[0m \u001b[39mArgs:\u001b[39;00m\n\u001b[1;32m    223\u001b[0m \u001b[39m    index (int): Index\u001b[39;00m\n\u001b[0;32m   (...)\u001b[0m\n\u001b[1;32m    226\u001b[0m \u001b[39m    tuple: (sample, target) where target is class_index of the target class.\u001b[39;00m\n\u001b[1;32m    227\u001b[0m \u001b[39m\"\"\"\u001b[39;00m\n\u001b[1;32m    228\u001b[0m path, target \u001b[39m=\u001b[39m \u001b[39mself\u001b[39m\u001b[39m.\u001b[39msamples[index]\n\u001b[0;32m--> 229\u001b[0m sample \u001b[39m=\u001b[39m \u001b[39mself\u001b[39;49m\u001b[39m.\u001b[39;49mloader(path)\n\u001b[1;32m    230\u001b[0m \u001b[39mif\u001b[39;00m \u001b[39mself\u001b[39m\u001b[39m.\u001b[39mtransform \u001b[39mis\u001b[39;00m \u001b[39mnot\u001b[39;00m \u001b[39mNone\u001b[39;00m:\n\u001b[1;32m    231\u001b[0m     sample \u001b[39m=\u001b[39m \u001b[39mself\u001b[39m\u001b[39m.\u001b[39mtransform(sample)\n",
      "File \u001b[0;32m/work3/s194253/02514/DL-COMVIS/venv/lib/python3.10/site-packages/torchvision/datasets/folder.py:268\u001b[0m, in \u001b[0;36mdefault_loader\u001b[0;34m(path)\u001b[0m\n\u001b[1;32m    266\u001b[0m     \u001b[39mreturn\u001b[39;00m accimage_loader(path)\n\u001b[1;32m    267\u001b[0m \u001b[39melse\u001b[39;00m:\n\u001b[0;32m--> 268\u001b[0m     \u001b[39mreturn\u001b[39;00m pil_loader(path)\n",
      "File \u001b[0;32m/work3/s194253/02514/DL-COMVIS/venv/lib/python3.10/site-packages/torchvision/datasets/folder.py:248\u001b[0m, in \u001b[0;36mpil_loader\u001b[0;34m(path)\u001b[0m\n\u001b[1;32m    246\u001b[0m \u001b[39mwith\u001b[39;00m \u001b[39mopen\u001b[39m(path, \u001b[39m\"\u001b[39m\u001b[39mrb\u001b[39m\u001b[39m\"\u001b[39m) \u001b[39mas\u001b[39;00m f:\n\u001b[1;32m    247\u001b[0m     img \u001b[39m=\u001b[39m Image\u001b[39m.\u001b[39mopen(f)\n\u001b[0;32m--> 248\u001b[0m     \u001b[39mreturn\u001b[39;00m img\u001b[39m.\u001b[39;49mconvert(\u001b[39m\"\u001b[39;49m\u001b[39mRGB\u001b[39;49m\u001b[39m\"\u001b[39;49m)\n",
      "File \u001b[0;32m/work3/s194253/02514/DL-COMVIS/venv/lib/python3.10/site-packages/PIL/Image.py:921\u001b[0m, in \u001b[0;36mImage.convert\u001b[0;34m(self, mode, matrix, dither, palette, colors)\u001b[0m\n\u001b[1;32m    873\u001b[0m \u001b[39mdef\u001b[39;00m \u001b[39mconvert\u001b[39m(\n\u001b[1;32m    874\u001b[0m     \u001b[39mself\u001b[39m, mode\u001b[39m=\u001b[39m\u001b[39mNone\u001b[39;00m, matrix\u001b[39m=\u001b[39m\u001b[39mNone\u001b[39;00m, dither\u001b[39m=\u001b[39m\u001b[39mNone\u001b[39;00m, palette\u001b[39m=\u001b[39mPalette\u001b[39m.\u001b[39mWEB, colors\u001b[39m=\u001b[39m\u001b[39m256\u001b[39m\n\u001b[1;32m    875\u001b[0m ):\n\u001b[1;32m    876\u001b[0m \u001b[39m    \u001b[39m\u001b[39m\"\"\"\u001b[39;00m\n\u001b[1;32m    877\u001b[0m \u001b[39m    Returns a converted copy of this image. For the \"P\" mode, this\u001b[39;00m\n\u001b[1;32m    878\u001b[0m \u001b[39m    method translates pixels through the palette.  If mode is\u001b[39;00m\n\u001b[0;32m   (...)\u001b[0m\n\u001b[1;32m    918\u001b[0m \u001b[39m    :returns: An :py:class:`~PIL.Image.Image` object.\u001b[39;00m\n\u001b[1;32m    919\u001b[0m \u001b[39m    \"\"\"\u001b[39;00m\n\u001b[0;32m--> 921\u001b[0m     \u001b[39mself\u001b[39;49m\u001b[39m.\u001b[39;49mload()\n\u001b[1;32m    923\u001b[0m     has_transparency \u001b[39m=\u001b[39m \u001b[39mself\u001b[39m\u001b[39m.\u001b[39minfo\u001b[39m.\u001b[39mget(\u001b[39m\"\u001b[39m\u001b[39mtransparency\u001b[39m\u001b[39m\"\u001b[39m) \u001b[39mis\u001b[39;00m \u001b[39mnot\u001b[39;00m \u001b[39mNone\u001b[39;00m\n\u001b[1;32m    924\u001b[0m     \u001b[39mif\u001b[39;00m \u001b[39mnot\u001b[39;00m mode \u001b[39mand\u001b[39;00m \u001b[39mself\u001b[39m\u001b[39m.\u001b[39mmode \u001b[39m==\u001b[39m \u001b[39m\"\u001b[39m\u001b[39mP\u001b[39m\u001b[39m\"\u001b[39m:\n\u001b[1;32m    925\u001b[0m         \u001b[39m# determine default mode\u001b[39;00m\n",
      "File \u001b[0;32m/work3/s194253/02514/DL-COMVIS/venv/lib/python3.10/site-packages/PIL/ImageFile.py:209\u001b[0m, in \u001b[0;36mImageFile.load\u001b[0;34m(self)\u001b[0m\n\u001b[1;32m    206\u001b[0m         \u001b[39mexcept\u001b[39;00m (\u001b[39mAttributeError\u001b[39;00m, \u001b[39mOSError\u001b[39;00m, \u001b[39mImportError\u001b[39;00m):\n\u001b[1;32m    207\u001b[0m             \u001b[39mself\u001b[39m\u001b[39m.\u001b[39mmap \u001b[39m=\u001b[39m \u001b[39mNone\u001b[39;00m\n\u001b[0;32m--> 209\u001b[0m \u001b[39mself\u001b[39;49m\u001b[39m.\u001b[39;49mload_prepare()\n\u001b[1;32m    210\u001b[0m err_code \u001b[39m=\u001b[39m \u001b[39m-\u001b[39m\u001b[39m3\u001b[39m  \u001b[39m# initialize to unknown error\u001b[39;00m\n\u001b[1;32m    211\u001b[0m \u001b[39mif\u001b[39;00m \u001b[39mnot\u001b[39;00m \u001b[39mself\u001b[39m\u001b[39m.\u001b[39mmap:\n\u001b[1;32m    212\u001b[0m     \u001b[39m# sort tiles in file order\u001b[39;00m\n",
      "File \u001b[0;32m/work3/s194253/02514/DL-COMVIS/venv/lib/python3.10/site-packages/PIL/ImageFile.py:286\u001b[0m, in \u001b[0;36mImageFile.load_prepare\u001b[0;34m(self)\u001b[0m\n\u001b[1;32m    283\u001b[0m \u001b[39mdef\u001b[39;00m \u001b[39mload_prepare\u001b[39m(\u001b[39mself\u001b[39m):\n\u001b[1;32m    284\u001b[0m     \u001b[39m# create image memory if necessary\u001b[39;00m\n\u001b[1;32m    285\u001b[0m     \u001b[39mif\u001b[39;00m \u001b[39mnot\u001b[39;00m \u001b[39mself\u001b[39m\u001b[39m.\u001b[39mim \u001b[39mor\u001b[39;00m \u001b[39mself\u001b[39m\u001b[39m.\u001b[39mim\u001b[39m.\u001b[39mmode \u001b[39m!=\u001b[39m \u001b[39mself\u001b[39m\u001b[39m.\u001b[39mmode \u001b[39mor\u001b[39;00m \u001b[39mself\u001b[39m\u001b[39m.\u001b[39mim\u001b[39m.\u001b[39msize \u001b[39m!=\u001b[39m \u001b[39mself\u001b[39m\u001b[39m.\u001b[39msize:\n\u001b[0;32m--> 286\u001b[0m         \u001b[39mself\u001b[39m\u001b[39m.\u001b[39mim \u001b[39m=\u001b[39m Image\u001b[39m.\u001b[39;49mcore\u001b[39m.\u001b[39;49mnew(\u001b[39mself\u001b[39;49m\u001b[39m.\u001b[39;49mmode, \u001b[39mself\u001b[39;49m\u001b[39m.\u001b[39;49msize)\n\u001b[1;32m    287\u001b[0m     \u001b[39m# create palette (optional)\u001b[39;00m\n\u001b[1;32m    288\u001b[0m     \u001b[39mif\u001b[39;00m \u001b[39mself\u001b[39m\u001b[39m.\u001b[39mmode \u001b[39m==\u001b[39m \u001b[39m\"\u001b[39m\u001b[39mP\u001b[39m\u001b[39m\"\u001b[39m:\n",
      "\u001b[0;31mKeyboardInterrupt\u001b[0m: "
     ]
    }
   ],
   "source": [
    "ROOT = '/dtu/datasets1/02514/hotdog_nothotdog'\n",
    "SEED = 0\n",
    "BATCH_SIZE = 32\n",
    "\n",
    "# Get normalization constants\n",
    "train_mean, train_std = get_normalization_constants(root=ROOT, seed=SEED)\n",
    "\n",
    "# Define transforms for training\n",
    "train_transforms = transforms.Compose([\n",
    "    transforms.Resize((224, 224)),\n",
    "    transforms.RandomHorizontalFlip(p=0.5),         # flips \"left-right\"\n",
    "    # transforms.RandomVerticalFlip(p=1.0),           # flips \"upside-down\"\n",
    "    transforms.GaussianBlur(kernel_size=(5, 9), sigma=(0.1, 5)),\n",
    "    transforms.RandomRotation(degrees=(60, 70)),\n",
    "    transforms.ToTensor(),\n",
    "    transforms.Normalize(\n",
    "        mean=train_mean, \n",
    "        std=train_std, \n",
    "    )\n",
    "])\n",
    "\n",
    "# Define transforms for test and validation\n",
    "test_transforms = transforms.Compose([\n",
    "    transforms.Resize((224, 224)),\n",
    "    transforms.ToTensor(),\n",
    "    transforms.Normalize(\n",
    "        mean=train_mean, \n",
    "        std=train_std, \n",
    "    )\n",
    "])\n",
    "\n",
    "# Get data loaders with applied transformations\n",
    "loaders = get_loaders(\n",
    "    root=ROOT, \n",
    "    batch_size=BATCH_SIZE, \n",
    "    seed=SEED, \n",
    "    train_transforms=train_transforms, \n",
    "    test_transforms=test_transforms, \n",
    "    num_workers=24\n",
    ")"
   ]
  },
  {
   "attachments": {},
   "cell_type": "markdown",
   "metadata": {},
   "source": [
    "## Output of model"
   ]
  },
  {
   "cell_type": "code",
   "execution_count": null,
   "metadata": {},
   "outputs": [
    {
     "data": {
      "text/plain": [
       "tensor([1, 1, 0, 1, 0, 0, 1, 1, 1, 0, 0, 0, 1, 1, 0, 1, 0, 0, 0, 1, 1, 1, 0, 0,\n",
       "        1, 1, 1, 1, 1, 0, 0, 1])"
      ]
     },
     "execution_count": 5,
     "metadata": {},
     "output_type": "execute_result"
    }
   ],
   "source": [
    "# Get example batch\n",
    "batch, targets = next(iter(loaders['train'])) \n",
    "out = model(batch)\n",
    "torch.argmax(nn.functional.softmax(out, dim=1), dim = 1)"
   ]
  },
  {
   "cell_type": "code",
   "execution_count": null,
   "metadata": {},
   "outputs": [],
   "source": [
    "# torch.nn.functional.one_hot(targets, num_classes=2)"
   ]
  },
  {
   "attachments": {},
   "cell_type": "markdown",
   "metadata": {},
   "source": [
    "## Model-class (Lightning)"
   ]
  },
  {
   "cell_type": "code",
   "execution_count": null,
   "metadata": {},
   "outputs": [],
   "source": [
    "# Transfer learning model\n",
    "class HotdogEfficientNet(pl.LightningModule):\n",
    "    def __init__(self, verbose=False):\n",
    "        super().__init__()\n",
    "\n",
    "        # Load model\n",
    "        self.efficient_net = timm.create_model('efficientnet_b4', pretrained=True, num_classes=2)\n",
    "        # Freeze weights\n",
    "        for param in self.efficient_net.parameters():\n",
    "            param.requires_grad = False\n",
    "        \n",
    "        # Require gradient for classification layer\n",
    "        self.efficient_net.classifier.requires_grad_()\n",
    "\n",
    "\n",
    "        # Define metrics and loss criterion\n",
    "        self.criterion = nn.BCEWithLogitsLoss() # nn.BCELoss()\n",
    "        self.accuracy = BinaryAccuracy().to(self.device)\n",
    "\n",
    "        # Set up logging option\n",
    "        self.model_checkpoint = ModelCheckpoint(\n",
    "            monitor = \"val_loss\",\n",
    "            verbose = verbose,\n",
    "            filename = \"{epoch}_{val_loss:.4f}\",\n",
    "        )\n",
    "\n",
    "    def forward(self,x):\n",
    "        return self.efficient_net(x)\n",
    "\n",
    "    def configure_optimizers(self):\n",
    "        return torch.optim.Adam(self.parameters(), lr = 1e-4)\n",
    "\n",
    "    def training_step(self, batch, batch_idx):\n",
    "        # Extract and process input\n",
    "        x, y = batch\n",
    "        y = torch.nn.functional.one_hot(y, num_classes=2) \n",
    "        y = y.to(torch.float32)\n",
    "\n",
    "        # Get prediction, loss and accuracy\n",
    "        y_hat = self(x)\n",
    "        loss = self.criterion(y_hat, y)\n",
    "        acc = self.accuracy(y_hat, y)\n",
    "\n",
    "        # logs metrics for each training_step - [default:True],\n",
    "        # the average across the epoch, to the progress bar and logger-[default:False]\n",
    "        self.log(\"train_acc\", acc, on_step=False, on_epoch=True, prog_bar=True, logger=True),\n",
    "        self.log(\"train_loss\", loss, on_step=False, on_epoch=True, prog_bar=True, logger=True)\n",
    "        return loss\n",
    "\n",
    "    def validation_step(self, batch, batch_idx):\n",
    "        # Extract and process input\n",
    "        x, y = batch\n",
    "        x, y = x.to(self.device), y.to(self.device)\n",
    "        y = torch.nn.functional.one_hot(y, num_classes=2) \n",
    "        y = y.to(torch.float32) \n",
    "\n",
    "        # Get prediction, loss and accuracy\n",
    "        y_hat = self(x)\n",
    "        loss = self.criterion(y_hat, y)\n",
    "        acc = self.accuracy(y_hat, y)\n",
    "\n",
    "        # logs metrics for each validation_step - [default:False]\n",
    "        #the average across the epoch - [default:True]\n",
    "        self.log(\"val_acc\", acc, prog_bar=True, logger=True),\n",
    "        self.log(\"val_loss\", loss, prog_bar=True, logger=True)"
   ]
  },
  {
   "attachments": {},
   "cell_type": "markdown",
   "metadata": {},
   "source": [
    "## Training"
   ]
  },
  {
   "cell_type": "code",
   "execution_count": null,
   "metadata": {},
   "outputs": [
    {
     "name": "stderr",
     "output_type": "stream",
     "text": [
      "GPU available: True (cuda), used: True\n",
      "TPU available: False, using: 0 TPU cores\n",
      "IPU available: False, using: 0 IPUs\n",
      "HPU available: False, using: 0 HPUs\n",
      "LOCAL_RANK: 0 - CUDA_VISIBLE_DEVICES: [1]\n",
      "\n",
      "  | Name          | Type              | Params\n",
      "----------------------------------------------------\n",
      "0 | efficient_net | EfficientNet      | 17.6 M\n",
      "1 | criterion     | BCEWithLogitsLoss | 0     \n",
      "2 | accuracy      | BinaryAccuracy    | 0     \n",
      "----------------------------------------------------\n",
      "3.6 K     Trainable params\n",
      "17.5 M    Non-trainable params\n",
      "17.6 M    Total params\n",
      "70.209    Total estimated model params size (MB)\n"
     ]
    },
    {
     "data": {
      "application/vnd.jupyter.widget-view+json": {
       "model_id": "9528e21315a249928ac98f6f1ed7e7dc",
       "version_major": 2,
       "version_minor": 0
      },
      "text/plain": [
       "Sanity Checking: 0it [00:00, ?it/s]"
      ]
     },
     "metadata": {},
     "output_type": "display_data"
    },
    {
     "data": {
      "application/vnd.jupyter.widget-view+json": {
       "model_id": "db33fb77cae248a6b498e33bdbdd9a29",
       "version_major": 2,
       "version_minor": 0
      },
      "text/plain": [
       "Training: 0it [00:00, ?it/s]"
      ]
     },
     "metadata": {},
     "output_type": "display_data"
    },
    {
     "data": {
      "application/vnd.jupyter.widget-view+json": {
       "model_id": "89312afd676d4549834444af85823869",
       "version_major": 2,
       "version_minor": 0
      },
      "text/plain": [
       "Validation: 0it [00:00, ?it/s]"
      ]
     },
     "metadata": {},
     "output_type": "display_data"
    },
    {
     "data": {
      "application/vnd.jupyter.widget-view+json": {
       "model_id": "77982745b17944859b55c652583acd1b",
       "version_major": 2,
       "version_minor": 0
      },
      "text/plain": [
       "Validation: 0it [00:00, ?it/s]"
      ]
     },
     "metadata": {},
     "output_type": "display_data"
    },
    {
     "data": {
      "application/vnd.jupyter.widget-view+json": {
       "model_id": "6aa7489f0dfb47aca1e4d5389c761b56",
       "version_major": 2,
       "version_minor": 0
      },
      "text/plain": [
       "Validation: 0it [00:00, ?it/s]"
      ]
     },
     "metadata": {},
     "output_type": "display_data"
    },
    {
     "data": {
      "application/vnd.jupyter.widget-view+json": {
       "model_id": "1eba00e1862943d18bb16214a17634ad",
       "version_major": 2,
       "version_minor": 0
      },
      "text/plain": [
       "Validation: 0it [00:00, ?it/s]"
      ]
     },
     "metadata": {},
     "output_type": "display_data"
    },
    {
     "data": {
      "application/vnd.jupyter.widget-view+json": {
       "model_id": "4a8fe1b288454965afd9222826a5b31f",
       "version_major": 2,
       "version_minor": 0
      },
      "text/plain": [
       "Validation: 0it [00:00, ?it/s]"
      ]
     },
     "metadata": {},
     "output_type": "display_data"
    },
    {
     "data": {
      "application/vnd.jupyter.widget-view+json": {
       "model_id": "a3ed4a44371b41dcae27488dc71d8eae",
       "version_major": 2,
       "version_minor": 0
      },
      "text/plain": [
       "Validation: 0it [00:00, ?it/s]"
      ]
     },
     "metadata": {},
     "output_type": "display_data"
    },
    {
     "data": {
      "application/vnd.jupyter.widget-view+json": {
       "model_id": "d87fe4b5ae8f4014928f8865bd777e56",
       "version_major": 2,
       "version_minor": 0
      },
      "text/plain": [
       "Validation: 0it [00:00, ?it/s]"
      ]
     },
     "metadata": {},
     "output_type": "display_data"
    },
    {
     "data": {
      "application/vnd.jupyter.widget-view+json": {
       "model_id": "ec52eda7de524b2b9ef32f52ee64898e",
       "version_major": 2,
       "version_minor": 0
      },
      "text/plain": [
       "Validation: 0it [00:00, ?it/s]"
      ]
     },
     "metadata": {},
     "output_type": "display_data"
    },
    {
     "data": {
      "application/vnd.jupyter.widget-view+json": {
       "model_id": "7addb7dc4cf64b2ea351de79616346d1",
       "version_major": 2,
       "version_minor": 0
      },
      "text/plain": [
       "Validation: 0it [00:00, ?it/s]"
      ]
     },
     "metadata": {},
     "output_type": "display_data"
    },
    {
     "data": {
      "application/vnd.jupyter.widget-view+json": {
       "model_id": "5f34823a84424a8fabb5f94c2e4590a3",
       "version_major": 2,
       "version_minor": 0
      },
      "text/plain": [
       "Validation: 0it [00:00, ?it/s]"
      ]
     },
     "metadata": {},
     "output_type": "display_data"
    },
    {
     "data": {
      "application/vnd.jupyter.widget-view+json": {
       "model_id": "69343053355a4f1f86a4b83c702d94d2",
       "version_major": 2,
       "version_minor": 0
      },
      "text/plain": [
       "Validation: 0it [00:00, ?it/s]"
      ]
     },
     "metadata": {},
     "output_type": "display_data"
    },
    {
     "data": {
      "application/vnd.jupyter.widget-view+json": {
       "model_id": "443f55a110554c058c8130bd31a10a13",
       "version_major": 2,
       "version_minor": 0
      },
      "text/plain": [
       "Validation: 0it [00:00, ?it/s]"
      ]
     },
     "metadata": {},
     "output_type": "display_data"
    },
    {
     "data": {
      "application/vnd.jupyter.widget-view+json": {
       "model_id": "67de0c39e2ce43c2b14bb6d97b09d976",
       "version_major": 2,
       "version_minor": 0
      },
      "text/plain": [
       "Validation: 0it [00:00, ?it/s]"
      ]
     },
     "metadata": {},
     "output_type": "display_data"
    },
    {
     "data": {
      "application/vnd.jupyter.widget-view+json": {
       "model_id": "65e5ee14391642e9931e03ac26926e37",
       "version_major": 2,
       "version_minor": 0
      },
      "text/plain": [
       "Validation: 0it [00:00, ?it/s]"
      ]
     },
     "metadata": {},
     "output_type": "display_data"
    },
    {
     "data": {
      "application/vnd.jupyter.widget-view+json": {
       "model_id": "5ed860d44a0b4c5f98bb689dc4848e4a",
       "version_major": 2,
       "version_minor": 0
      },
      "text/plain": [
       "Validation: 0it [00:00, ?it/s]"
      ]
     },
     "metadata": {},
     "output_type": "display_data"
    },
    {
     "data": {
      "application/vnd.jupyter.widget-view+json": {
       "model_id": "5509cf37f0924dbc896990f434baad03",
       "version_major": 2,
       "version_minor": 0
      },
      "text/plain": [
       "Validation: 0it [00:00, ?it/s]"
      ]
     },
     "metadata": {},
     "output_type": "display_data"
    },
    {
     "data": {
      "application/vnd.jupyter.widget-view+json": {
       "model_id": "7d79fd7e19ec4e3fa878a6ef1ab71205",
       "version_major": 2,
       "version_minor": 0
      },
      "text/plain": [
       "Validation: 0it [00:00, ?it/s]"
      ]
     },
     "metadata": {},
     "output_type": "display_data"
    },
    {
     "data": {
      "application/vnd.jupyter.widget-view+json": {
       "model_id": "500e85937c28426dafec524890399374",
       "version_major": 2,
       "version_minor": 0
      },
      "text/plain": [
       "Validation: 0it [00:00, ?it/s]"
      ]
     },
     "metadata": {},
     "output_type": "display_data"
    },
    {
     "data": {
      "application/vnd.jupyter.widget-view+json": {
       "model_id": "d9baf49cbb45465a82c39314e776a447",
       "version_major": 2,
       "version_minor": 0
      },
      "text/plain": [
       "Validation: 0it [00:00, ?it/s]"
      ]
     },
     "metadata": {},
     "output_type": "display_data"
    },
    {
     "data": {
      "application/vnd.jupyter.widget-view+json": {
       "model_id": "72b10700d83149a7b998c9fd297f8c1b",
       "version_major": 2,
       "version_minor": 0
      },
      "text/plain": [
       "Validation: 0it [00:00, ?it/s]"
      ]
     },
     "metadata": {},
     "output_type": "display_data"
    },
    {
     "data": {
      "application/vnd.jupyter.widget-view+json": {
       "model_id": "6c2d763c90434295853598c3060d10ee",
       "version_major": 2,
       "version_minor": 0
      },
      "text/plain": [
       "Validation: 0it [00:00, ?it/s]"
      ]
     },
     "metadata": {},
     "output_type": "display_data"
    },
    {
     "data": {
      "application/vnd.jupyter.widget-view+json": {
       "model_id": "c897db6a15e747f9872ecfa405956acc",
       "version_major": 2,
       "version_minor": 0
      },
      "text/plain": [
       "Validation: 0it [00:00, ?it/s]"
      ]
     },
     "metadata": {},
     "output_type": "display_data"
    },
    {
     "data": {
      "application/vnd.jupyter.widget-view+json": {
       "model_id": "77b007f828d94188a87cc03ff87924b9",
       "version_major": 2,
       "version_minor": 0
      },
      "text/plain": [
       "Validation: 0it [00:00, ?it/s]"
      ]
     },
     "metadata": {},
     "output_type": "display_data"
    },
    {
     "data": {
      "application/vnd.jupyter.widget-view+json": {
       "model_id": "f6ab80aec1184958a0735795ee26bc98",
       "version_major": 2,
       "version_minor": 0
      },
      "text/plain": [
       "Validation: 0it [00:00, ?it/s]"
      ]
     },
     "metadata": {},
     "output_type": "display_data"
    },
    {
     "data": {
      "application/vnd.jupyter.widget-view+json": {
       "model_id": "add768d2a0d244128ca3004ef27fc590",
       "version_major": 2,
       "version_minor": 0
      },
      "text/plain": [
       "Validation: 0it [00:00, ?it/s]"
      ]
     },
     "metadata": {},
     "output_type": "display_data"
    },
    {
     "data": {
      "application/vnd.jupyter.widget-view+json": {
       "model_id": "c4902fe2a467495fb183c3a487c1f8c4",
       "version_major": 2,
       "version_minor": 0
      },
      "text/plain": [
       "Validation: 0it [00:00, ?it/s]"
      ]
     },
     "metadata": {},
     "output_type": "display_data"
    },
    {
     "data": {
      "application/vnd.jupyter.widget-view+json": {
       "model_id": "fb6ee0fb078341b9a9a28791e8f17388",
       "version_major": 2,
       "version_minor": 0
      },
      "text/plain": [
       "Validation: 0it [00:00, ?it/s]"
      ]
     },
     "metadata": {},
     "output_type": "display_data"
    },
    {
     "data": {
      "application/vnd.jupyter.widget-view+json": {
       "model_id": "48c8ce8d59f5414398632151748f6839",
       "version_major": 2,
       "version_minor": 0
      },
      "text/plain": [
       "Validation: 0it [00:00, ?it/s]"
      ]
     },
     "metadata": {},
     "output_type": "display_data"
    },
    {
     "data": {
      "application/vnd.jupyter.widget-view+json": {
       "model_id": "0ccd468914c44e799ad2e4c4af38b9d3",
       "version_major": 2,
       "version_minor": 0
      },
      "text/plain": [
       "Validation: 0it [00:00, ?it/s]"
      ]
     },
     "metadata": {},
     "output_type": "display_data"
    },
    {
     "data": {
      "application/vnd.jupyter.widget-view+json": {
       "model_id": "12fe9c790680431a87b5b55b6124bdd5",
       "version_major": 2,
       "version_minor": 0
      },
      "text/plain": [
       "Validation: 0it [00:00, ?it/s]"
      ]
     },
     "metadata": {},
     "output_type": "display_data"
    },
    {
     "data": {
      "application/vnd.jupyter.widget-view+json": {
       "model_id": "73927a40a21c48748f108fa41af35ddf",
       "version_major": 2,
       "version_minor": 0
      },
      "text/plain": [
       "Validation: 0it [00:00, ?it/s]"
      ]
     },
     "metadata": {},
     "output_type": "display_data"
    },
    {
     "data": {
      "application/vnd.jupyter.widget-view+json": {
       "model_id": "324d7bd4cba74c50830c77e8da029f1b",
       "version_major": 2,
       "version_minor": 0
      },
      "text/plain": [
       "Validation: 0it [00:00, ?it/s]"
      ]
     },
     "metadata": {},
     "output_type": "display_data"
    },
    {
     "data": {
      "application/vnd.jupyter.widget-view+json": {
       "model_id": "3ed29bf8f85f4779b636d33e950b1e17",
       "version_major": 2,
       "version_minor": 0
      },
      "text/plain": [
       "Validation: 0it [00:00, ?it/s]"
      ]
     },
     "metadata": {},
     "output_type": "display_data"
    },
    {
     "data": {
      "application/vnd.jupyter.widget-view+json": {
       "model_id": "fc909c50968040fba48edf0b2264b876",
       "version_major": 2,
       "version_minor": 0
      },
      "text/plain": [
       "Validation: 0it [00:00, ?it/s]"
      ]
     },
     "metadata": {},
     "output_type": "display_data"
    },
    {
     "data": {
      "application/vnd.jupyter.widget-view+json": {
       "model_id": "ae7bd449c8234f73a3fff2de12824b3f",
       "version_major": 2,
       "version_minor": 0
      },
      "text/plain": [
       "Validation: 0it [00:00, ?it/s]"
      ]
     },
     "metadata": {},
     "output_type": "display_data"
    },
    {
     "data": {
      "application/vnd.jupyter.widget-view+json": {
       "model_id": "cde12fd3d6bf4cf9b475d8ad1fffacfa",
       "version_major": 2,
       "version_minor": 0
      },
      "text/plain": [
       "Validation: 0it [00:00, ?it/s]"
      ]
     },
     "metadata": {},
     "output_type": "display_data"
    },
    {
     "data": {
      "application/vnd.jupyter.widget-view+json": {
       "model_id": "91c03437d79d49ed98807ba8b1596012",
       "version_major": 2,
       "version_minor": 0
      },
      "text/plain": [
       "Validation: 0it [00:00, ?it/s]"
      ]
     },
     "metadata": {},
     "output_type": "display_data"
    },
    {
     "data": {
      "application/vnd.jupyter.widget-view+json": {
       "model_id": "45e7ff3af34d4c48aebda11aa1a88a24",
       "version_major": 2,
       "version_minor": 0
      },
      "text/plain": [
       "Validation: 0it [00:00, ?it/s]"
      ]
     },
     "metadata": {},
     "output_type": "display_data"
    },
    {
     "data": {
      "application/vnd.jupyter.widget-view+json": {
       "model_id": "093daeb217d04a7eb8cefb56c1a837a1",
       "version_major": 2,
       "version_minor": 0
      },
      "text/plain": [
       "Validation: 0it [00:00, ?it/s]"
      ]
     },
     "metadata": {},
     "output_type": "display_data"
    },
    {
     "data": {
      "application/vnd.jupyter.widget-view+json": {
       "model_id": "2298e9372460419eaa4c6e4623d04858",
       "version_major": 2,
       "version_minor": 0
      },
      "text/plain": [
       "Validation: 0it [00:00, ?it/s]"
      ]
     },
     "metadata": {},
     "output_type": "display_data"
    },
    {
     "data": {
      "application/vnd.jupyter.widget-view+json": {
       "model_id": "80a3faa2c9be49cd9a98c1beba40e810",
       "version_major": 2,
       "version_minor": 0
      },
      "text/plain": [
       "Validation: 0it [00:00, ?it/s]"
      ]
     },
     "metadata": {},
     "output_type": "display_data"
    },
    {
     "data": {
      "application/vnd.jupyter.widget-view+json": {
       "model_id": "53c1e9ca936745a09bca0783d310adf5",
       "version_major": 2,
       "version_minor": 0
      },
      "text/plain": [
       "Validation: 0it [00:00, ?it/s]"
      ]
     },
     "metadata": {},
     "output_type": "display_data"
    },
    {
     "data": {
      "application/vnd.jupyter.widget-view+json": {
       "model_id": "d2c2af51a1194bf5b7e86a21cdf2fca0",
       "version_major": 2,
       "version_minor": 0
      },
      "text/plain": [
       "Validation: 0it [00:00, ?it/s]"
      ]
     },
     "metadata": {},
     "output_type": "display_data"
    },
    {
     "data": {
      "application/vnd.jupyter.widget-view+json": {
       "model_id": "39e4f4a8f6e64939b0f91a90df4b1226",
       "version_major": 2,
       "version_minor": 0
      },
      "text/plain": [
       "Validation: 0it [00:00, ?it/s]"
      ]
     },
     "metadata": {},
     "output_type": "display_data"
    },
    {
     "data": {
      "application/vnd.jupyter.widget-view+json": {
       "model_id": "768d6f4f8be547c283ec5f42d9601037",
       "version_major": 2,
       "version_minor": 0
      },
      "text/plain": [
       "Validation: 0it [00:00, ?it/s]"
      ]
     },
     "metadata": {},
     "output_type": "display_data"
    },
    {
     "data": {
      "application/vnd.jupyter.widget-view+json": {
       "model_id": "6ca81340210a460a9b551958722e5786",
       "version_major": 2,
       "version_minor": 0
      },
      "text/plain": [
       "Validation: 0it [00:00, ?it/s]"
      ]
     },
     "metadata": {},
     "output_type": "display_data"
    },
    {
     "data": {
      "application/vnd.jupyter.widget-view+json": {
       "model_id": "a7c586c4417545c394aafb29c2d07ca0",
       "version_major": 2,
       "version_minor": 0
      },
      "text/plain": [
       "Validation: 0it [00:00, ?it/s]"
      ]
     },
     "metadata": {},
     "output_type": "display_data"
    },
    {
     "data": {
      "application/vnd.jupyter.widget-view+json": {
       "model_id": "a55e6dbd29484f6d996930b0ab6e85da",
       "version_major": 2,
       "version_minor": 0
      },
      "text/plain": [
       "Validation: 0it [00:00, ?it/s]"
      ]
     },
     "metadata": {},
     "output_type": "display_data"
    },
    {
     "data": {
      "application/vnd.jupyter.widget-view+json": {
       "model_id": "189695e8ce39469bbf4cb55383b21ac7",
       "version_major": 2,
       "version_minor": 0
      },
      "text/plain": [
       "Validation: 0it [00:00, ?it/s]"
      ]
     },
     "metadata": {},
     "output_type": "display_data"
    },
    {
     "data": {
      "application/vnd.jupyter.widget-view+json": {
       "model_id": "3ab5aecdb4ea42e3b3880fbb9c30dcf6",
       "version_major": 2,
       "version_minor": 0
      },
      "text/plain": [
       "Validation: 0it [00:00, ?it/s]"
      ]
     },
     "metadata": {},
     "output_type": "display_data"
    },
    {
     "data": {
      "application/vnd.jupyter.widget-view+json": {
       "model_id": "97892e8e12fb4c3e8371a0739937e34a",
       "version_major": 2,
       "version_minor": 0
      },
      "text/plain": [
       "Validation: 0it [00:00, ?it/s]"
      ]
     },
     "metadata": {},
     "output_type": "display_data"
    },
    {
     "data": {
      "application/vnd.jupyter.widget-view+json": {
       "model_id": "14f46c0e47b0478cbf60c048bc0531b2",
       "version_major": 2,
       "version_minor": 0
      },
      "text/plain": [
       "Validation: 0it [00:00, ?it/s]"
      ]
     },
     "metadata": {},
     "output_type": "display_data"
    },
    {
     "data": {
      "application/vnd.jupyter.widget-view+json": {
       "model_id": "f6813a85e96e4e73819a2f6eb8ef189d",
       "version_major": 2,
       "version_minor": 0
      },
      "text/plain": [
       "Validation: 0it [00:00, ?it/s]"
      ]
     },
     "metadata": {},
     "output_type": "display_data"
    },
    {
     "data": {
      "application/vnd.jupyter.widget-view+json": {
       "model_id": "89d807bf4fc648e6ae60b6fcb9e60e19",
       "version_major": 2,
       "version_minor": 0
      },
      "text/plain": [
       "Validation: 0it [00:00, ?it/s]"
      ]
     },
     "metadata": {},
     "output_type": "display_data"
    },
    {
     "data": {
      "application/vnd.jupyter.widget-view+json": {
       "model_id": "987a7991efe148209b85f81def0c29c8",
       "version_major": 2,
       "version_minor": 0
      },
      "text/plain": [
       "Validation: 0it [00:00, ?it/s]"
      ]
     },
     "metadata": {},
     "output_type": "display_data"
    },
    {
     "data": {
      "application/vnd.jupyter.widget-view+json": {
       "model_id": "340b822cf5ff4183b035f9ab27b2d1c2",
       "version_major": 2,
       "version_minor": 0
      },
      "text/plain": [
       "Validation: 0it [00:00, ?it/s]"
      ]
     },
     "metadata": {},
     "output_type": "display_data"
    },
    {
     "data": {
      "application/vnd.jupyter.widget-view+json": {
       "model_id": "92966131f27a420bb1809c6a47e45115",
       "version_major": 2,
       "version_minor": 0
      },
      "text/plain": [
       "Validation: 0it [00:00, ?it/s]"
      ]
     },
     "metadata": {},
     "output_type": "display_data"
    },
    {
     "data": {
      "application/vnd.jupyter.widget-view+json": {
       "model_id": "7e5306bb33e447a8909df036ca1bf173",
       "version_major": 2,
       "version_minor": 0
      },
      "text/plain": [
       "Validation: 0it [00:00, ?it/s]"
      ]
     },
     "metadata": {},
     "output_type": "display_data"
    },
    {
     "data": {
      "application/vnd.jupyter.widget-view+json": {
       "model_id": "d4156cf1326c44b69e270f81a33cbc8b",
       "version_major": 2,
       "version_minor": 0
      },
      "text/plain": [
       "Validation: 0it [00:00, ?it/s]"
      ]
     },
     "metadata": {},
     "output_type": "display_data"
    },
    {
     "data": {
      "application/vnd.jupyter.widget-view+json": {
       "model_id": "dfc3ccd4868f431896c20288bf0dc482",
       "version_major": 2,
       "version_minor": 0
      },
      "text/plain": [
       "Validation: 0it [00:00, ?it/s]"
      ]
     },
     "metadata": {},
     "output_type": "display_data"
    },
    {
     "data": {
      "application/vnd.jupyter.widget-view+json": {
       "model_id": "df3a15133a784288bd79bc455ebd8ba6",
       "version_major": 2,
       "version_minor": 0
      },
      "text/plain": [
       "Validation: 0it [00:00, ?it/s]"
      ]
     },
     "metadata": {},
     "output_type": "display_data"
    },
    {
     "data": {
      "application/vnd.jupyter.widget-view+json": {
       "model_id": "d44b07ee5b884b54a8b2b3ee8b06b875",
       "version_major": 2,
       "version_minor": 0
      },
      "text/plain": [
       "Validation: 0it [00:00, ?it/s]"
      ]
     },
     "metadata": {},
     "output_type": "display_data"
    },
    {
     "data": {
      "application/vnd.jupyter.widget-view+json": {
       "model_id": "e016e5179ab74f8880b48ce3ab3a2a14",
       "version_major": 2,
       "version_minor": 0
      },
      "text/plain": [
       "Validation: 0it [00:00, ?it/s]"
      ]
     },
     "metadata": {},
     "output_type": "display_data"
    },
    {
     "data": {
      "application/vnd.jupyter.widget-view+json": {
       "model_id": "a83a63607e2f470181de9d19e468428e",
       "version_major": 2,
       "version_minor": 0
      },
      "text/plain": [
       "Validation: 0it [00:00, ?it/s]"
      ]
     },
     "metadata": {},
     "output_type": "display_data"
    },
    {
     "data": {
      "application/vnd.jupyter.widget-view+json": {
       "model_id": "c1c9cf4e7b484937832910b0e0ac39b1",
       "version_major": 2,
       "version_minor": 0
      },
      "text/plain": [
       "Validation: 0it [00:00, ?it/s]"
      ]
     },
     "metadata": {},
     "output_type": "display_data"
    },
    {
     "data": {
      "application/vnd.jupyter.widget-view+json": {
       "model_id": "d93d4db8457a445aba5d1370c909c8fa",
       "version_major": 2,
       "version_minor": 0
      },
      "text/plain": [
       "Validation: 0it [00:00, ?it/s]"
      ]
     },
     "metadata": {},
     "output_type": "display_data"
    },
    {
     "data": {
      "application/vnd.jupyter.widget-view+json": {
       "model_id": "cd0e05d5a35546b7be767cf3e8d33797",
       "version_major": 2,
       "version_minor": 0
      },
      "text/plain": [
       "Validation: 0it [00:00, ?it/s]"
      ]
     },
     "metadata": {},
     "output_type": "display_data"
    },
    {
     "data": {
      "application/vnd.jupyter.widget-view+json": {
       "model_id": "a1f66ecadfa34ca691aa9631468823fd",
       "version_major": 2,
       "version_minor": 0
      },
      "text/plain": [
       "Validation: 0it [00:00, ?it/s]"
      ]
     },
     "metadata": {},
     "output_type": "display_data"
    },
    {
     "data": {
      "application/vnd.jupyter.widget-view+json": {
       "model_id": "d107049cf24c485d83c72458ea189071",
       "version_major": 2,
       "version_minor": 0
      },
      "text/plain": [
       "Validation: 0it [00:00, ?it/s]"
      ]
     },
     "metadata": {},
     "output_type": "display_data"
    },
    {
     "data": {
      "application/vnd.jupyter.widget-view+json": {
       "model_id": "428fe095dcbb45d1a4cefad5506186aa",
       "version_major": 2,
       "version_minor": 0
      },
      "text/plain": [
       "Validation: 0it [00:00, ?it/s]"
      ]
     },
     "metadata": {},
     "output_type": "display_data"
    },
    {
     "data": {
      "application/vnd.jupyter.widget-view+json": {
       "model_id": "653f07a1774c4e2fbd9ca31304c4ab84",
       "version_major": 2,
       "version_minor": 0
      },
      "text/plain": [
       "Validation: 0it [00:00, ?it/s]"
      ]
     },
     "metadata": {},
     "output_type": "display_data"
    },
    {
     "data": {
      "application/vnd.jupyter.widget-view+json": {
       "model_id": "351691441b2642019377b292fa239b03",
       "version_major": 2,
       "version_minor": 0
      },
      "text/plain": [
       "Validation: 0it [00:00, ?it/s]"
      ]
     },
     "metadata": {},
     "output_type": "display_data"
    },
    {
     "data": {
      "application/vnd.jupyter.widget-view+json": {
       "model_id": "b3c14e25c4da41fe8b9288d9fdb059c0",
       "version_major": 2,
       "version_minor": 0
      },
      "text/plain": [
       "Validation: 0it [00:00, ?it/s]"
      ]
     },
     "metadata": {},
     "output_type": "display_data"
    },
    {
     "data": {
      "application/vnd.jupyter.widget-view+json": {
       "model_id": "e87b361aede04ddaaf1827ab653767b5",
       "version_major": 2,
       "version_minor": 0
      },
      "text/plain": [
       "Validation: 0it [00:00, ?it/s]"
      ]
     },
     "metadata": {},
     "output_type": "display_data"
    },
    {
     "data": {
      "application/vnd.jupyter.widget-view+json": {
       "model_id": "92becf22ff9d42a1942c27914fd8751f",
       "version_major": 2,
       "version_minor": 0
      },
      "text/plain": [
       "Validation: 0it [00:00, ?it/s]"
      ]
     },
     "metadata": {},
     "output_type": "display_data"
    },
    {
     "data": {
      "application/vnd.jupyter.widget-view+json": {
       "model_id": "20bf210debc447f1846b7b27493ac2ff",
       "version_major": 2,
       "version_minor": 0
      },
      "text/plain": [
       "Validation: 0it [00:00, ?it/s]"
      ]
     },
     "metadata": {},
     "output_type": "display_data"
    },
    {
     "data": {
      "application/vnd.jupyter.widget-view+json": {
       "model_id": "31d6eb3a29154f408cf11b1b45622c9c",
       "version_major": 2,
       "version_minor": 0
      },
      "text/plain": [
       "Validation: 0it [00:00, ?it/s]"
      ]
     },
     "metadata": {},
     "output_type": "display_data"
    },
    {
     "data": {
      "application/vnd.jupyter.widget-view+json": {
       "model_id": "612f1e285f5243d9b000ea02f391a341",
       "version_major": 2,
       "version_minor": 0
      },
      "text/plain": [
       "Validation: 0it [00:00, ?it/s]"
      ]
     },
     "metadata": {},
     "output_type": "display_data"
    },
    {
     "data": {
      "application/vnd.jupyter.widget-view+json": {
       "model_id": "4f23c26c041544f88ee7e0368640f398",
       "version_major": 2,
       "version_minor": 0
      },
      "text/plain": [
       "Validation: 0it [00:00, ?it/s]"
      ]
     },
     "metadata": {},
     "output_type": "display_data"
    },
    {
     "data": {
      "application/vnd.jupyter.widget-view+json": {
       "model_id": "54f424c1110649bd8b25c3ab56e852c0",
       "version_major": 2,
       "version_minor": 0
      },
      "text/plain": [
       "Validation: 0it [00:00, ?it/s]"
      ]
     },
     "metadata": {},
     "output_type": "display_data"
    },
    {
     "data": {
      "application/vnd.jupyter.widget-view+json": {
       "model_id": "d16e44eb03634543b2b7b2d81935cfd3",
       "version_major": 2,
       "version_minor": 0
      },
      "text/plain": [
       "Validation: 0it [00:00, ?it/s]"
      ]
     },
     "metadata": {},
     "output_type": "display_data"
    },
    {
     "data": {
      "application/vnd.jupyter.widget-view+json": {
       "model_id": "cd143a761aa7451588b22e339742271f",
       "version_major": 2,
       "version_minor": 0
      },
      "text/plain": [
       "Validation: 0it [00:00, ?it/s]"
      ]
     },
     "metadata": {},
     "output_type": "display_data"
    },
    {
     "data": {
      "application/vnd.jupyter.widget-view+json": {
       "model_id": "326c08415f14486ebd708ec8245af508",
       "version_major": 2,
       "version_minor": 0
      },
      "text/plain": [
       "Validation: 0it [00:00, ?it/s]"
      ]
     },
     "metadata": {},
     "output_type": "display_data"
    },
    {
     "data": {
      "application/vnd.jupyter.widget-view+json": {
       "model_id": "08c81e8a27014510b88930361d07a59a",
       "version_major": 2,
       "version_minor": 0
      },
      "text/plain": [
       "Validation: 0it [00:00, ?it/s]"
      ]
     },
     "metadata": {},
     "output_type": "display_data"
    },
    {
     "data": {
      "application/vnd.jupyter.widget-view+json": {
       "model_id": "c9e62d8726d441dbae5e058a0b607b11",
       "version_major": 2,
       "version_minor": 0
      },
      "text/plain": [
       "Validation: 0it [00:00, ?it/s]"
      ]
     },
     "metadata": {},
     "output_type": "display_data"
    },
    {
     "data": {
      "application/vnd.jupyter.widget-view+json": {
       "model_id": "d2d3f50c98994d75958ea9e2dd433232",
       "version_major": 2,
       "version_minor": 0
      },
      "text/plain": [
       "Validation: 0it [00:00, ?it/s]"
      ]
     },
     "metadata": {},
     "output_type": "display_data"
    },
    {
     "data": {
      "application/vnd.jupyter.widget-view+json": {
       "model_id": "ffa4db15e1ab48d180521eb00f30eb0a",
       "version_major": 2,
       "version_minor": 0
      },
      "text/plain": [
       "Validation: 0it [00:00, ?it/s]"
      ]
     },
     "metadata": {},
     "output_type": "display_data"
    },
    {
     "data": {
      "application/vnd.jupyter.widget-view+json": {
       "model_id": "b43069a90588410c821a3f237325d9ab",
       "version_major": 2,
       "version_minor": 0
      },
      "text/plain": [
       "Validation: 0it [00:00, ?it/s]"
      ]
     },
     "metadata": {},
     "output_type": "display_data"
    },
    {
     "data": {
      "application/vnd.jupyter.widget-view+json": {
       "model_id": "696d1bfe3d0949109308f3b4d8e6b4d2",
       "version_major": 2,
       "version_minor": 0
      },
      "text/plain": [
       "Validation: 0it [00:00, ?it/s]"
      ]
     },
     "metadata": {},
     "output_type": "display_data"
    },
    {
     "data": {
      "application/vnd.jupyter.widget-view+json": {
       "model_id": "c6c216f173224ed5ba86043aecce23b8",
       "version_major": 2,
       "version_minor": 0
      },
      "text/plain": [
       "Validation: 0it [00:00, ?it/s]"
      ]
     },
     "metadata": {},
     "output_type": "display_data"
    },
    {
     "data": {
      "application/vnd.jupyter.widget-view+json": {
       "model_id": "1e55fcb7e91c41c483088e2aa6ba8b39",
       "version_major": 2,
       "version_minor": 0
      },
      "text/plain": [
       "Validation: 0it [00:00, ?it/s]"
      ]
     },
     "metadata": {},
     "output_type": "display_data"
    },
    {
     "data": {
      "application/vnd.jupyter.widget-view+json": {
       "model_id": "08cac5e91878436cb53dd8d7a4c0a3f1",
       "version_major": 2,
       "version_minor": 0
      },
      "text/plain": [
       "Validation: 0it [00:00, ?it/s]"
      ]
     },
     "metadata": {},
     "output_type": "display_data"
    },
    {
     "data": {
      "application/vnd.jupyter.widget-view+json": {
       "model_id": "2212a467a2a3495f8d411c61dd186cee",
       "version_major": 2,
       "version_minor": 0
      },
      "text/plain": [
       "Validation: 0it [00:00, ?it/s]"
      ]
     },
     "metadata": {},
     "output_type": "display_data"
    },
    {
     "data": {
      "application/vnd.jupyter.widget-view+json": {
       "model_id": "ab49cc0307fd483c92009ca081f3dc21",
       "version_major": 2,
       "version_minor": 0
      },
      "text/plain": [
       "Validation: 0it [00:00, ?it/s]"
      ]
     },
     "metadata": {},
     "output_type": "display_data"
    },
    {
     "data": {
      "application/vnd.jupyter.widget-view+json": {
       "model_id": "11e2858f32324f1a98b1180e70f8c0d2",
       "version_major": 2,
       "version_minor": 0
      },
      "text/plain": [
       "Validation: 0it [00:00, ?it/s]"
      ]
     },
     "metadata": {},
     "output_type": "display_data"
    },
    {
     "data": {
      "application/vnd.jupyter.widget-view+json": {
       "model_id": "37ef617a4e5543a88edb5401a60db63e",
       "version_major": 2,
       "version_minor": 0
      },
      "text/plain": [
       "Validation: 0it [00:00, ?it/s]"
      ]
     },
     "metadata": {},
     "output_type": "display_data"
    },
    {
     "data": {
      "application/vnd.jupyter.widget-view+json": {
       "model_id": "10de04a4a178411c81bc267d9f173fce",
       "version_major": 2,
       "version_minor": 0
      },
      "text/plain": [
       "Validation: 0it [00:00, ?it/s]"
      ]
     },
     "metadata": {},
     "output_type": "display_data"
    },
    {
     "data": {
      "application/vnd.jupyter.widget-view+json": {
       "model_id": "f958f6091e2a4b30ab3ba5f85443e3ca",
       "version_major": 2,
       "version_minor": 0
      },
      "text/plain": [
       "Validation: 0it [00:00, ?it/s]"
      ]
     },
     "metadata": {},
     "output_type": "display_data"
    },
    {
     "data": {
      "application/vnd.jupyter.widget-view+json": {
       "model_id": "a147cdfda151443da46fe32f76be0182",
       "version_major": 2,
       "version_minor": 0
      },
      "text/plain": [
       "Validation: 0it [00:00, ?it/s]"
      ]
     },
     "metadata": {},
     "output_type": "display_data"
    },
    {
     "data": {
      "application/vnd.jupyter.widget-view+json": {
       "model_id": "696707e013be47b290853a898ff98fbc",
       "version_major": 2,
       "version_minor": 0
      },
      "text/plain": [
       "Validation: 0it [00:00, ?it/s]"
      ]
     },
     "metadata": {},
     "output_type": "display_data"
    },
    {
     "name": "stderr",
     "output_type": "stream",
     "text": [
      "`Trainer.fit` stopped: `max_epochs=100` reached.\n"
     ]
    }
   ],
   "source": [
    "SEED = 0\n",
    "set_seed(SEED)\n",
    "\n",
    "# Initialize model\n",
    "HotdogModel = HotdogEfficientNet(\n",
    "    verbose=False,\n",
    ")\n",
    "\n",
    "# Set up logger\n",
    "tb_logger = TensorBoardLogger(\n",
    "    save_dir=\"/work3/s194253/02514/DL-COMVIS/logs/project1\",\n",
    "    version=None,\n",
    "    name='efficient_net'\n",
    "),\n",
    "\n",
    "#CPU:default,GPU:gpus,TPU:tpu_cores\n",
    "trainer = pl.Trainer(\n",
    "    devices=1, \n",
    "    accelerator=\"gpu\", \n",
    "    max_epochs = 100,\n",
    "    log_every_n_steps=2,\n",
    "    callbacks=[HotdogModel.model_checkpoint],\n",
    "    logger=tb_logger,\n",
    ") \n",
    "\n",
    "# Train model\n",
    "trainer.fit(\n",
    "    model=HotdogModel,\n",
    "    train_dataloaders = loaders['train'],\n",
    "    val_dataloaders = loaders['validation'], \n",
    ") \n",
    "\n",
    "# manually you can save best checkpoints - \n",
    "trainer.save_checkpoint(\"DL-COMVIS/models/modelshotdog_efficient_net.ckpt\")"
   ]
  },
  {
   "cell_type": "code",
   "execution_count": null,
   "metadata": {},
   "outputs": [],
   "source": []
  }
 ],
 "metadata": {
  "kernelspec": {
   "display_name": "Python 3 (ipykernel)",
   "language": "python",
   "name": "python3"
  },
  "language_info": {
   "codemirror_mode": {
    "name": "ipython",
    "version": 3
   },
   "file_extension": ".py",
   "mimetype": "text/x-python",
   "name": "python",
   "nbconvert_exporter": "python",
   "pygments_lexer": "ipython3",
   "version": "3.10.7"
  },
  "orig_nbformat": 4
 },
 "nbformat": 4,
 "nbformat_minor": 2
}
