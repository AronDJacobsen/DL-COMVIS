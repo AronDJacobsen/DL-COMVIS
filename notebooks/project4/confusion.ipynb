{
 "cells": [
  {
   "cell_type": "code",
   "execution_count": 1,
   "metadata": {},
   "outputs": [],
   "source": [
    "import torch\n",
    "\n",
    "from src.data.project4.dataloader import get_loaders \n",
    "from src.models.project4.models import get_model\n",
    "from src.utils import set_seed, get_optimizer\n",
    "from src.models.project4.losses import get_loss\n",
    "\n",
    "import matplotlib.pyplot as plt\n",
    "import matplotlib.patches as patches\n",
    "\n",
    "from omegaconf import OmegaConf\n"
   ]
  },
  {
   "cell_type": "code",
   "execution_count": 2,
   "metadata": {},
   "outputs": [
    {
     "data": {
      "text/plain": [
       "True"
      ]
     },
     "execution_count": 2,
     "metadata": {},
     "output_type": "execute_result"
    }
   ],
   "source": [
    "torch.cuda.is_available()"
   ]
  },
  {
   "cell_type": "code",
   "execution_count": 3,
   "metadata": {},
   "outputs": [],
   "source": [
    "args = OmegaConf.create({\n",
    "    'model_name': 'resnet18',\n",
    "    'region_size': 224,\n",
    "    'batch_size': 1,\n",
    "    'optimizer': 'Adam',\n",
    "    'loss': 'CrossEntropy',\n",
    "    'data_path': '/work3/s194253/02514/project4_results/data_wastedetection',\n",
    "    'use_super_categories': True,\n",
    "    'lr': 1e-04,\n",
    "    'out': False,\n",
    "    'seed': 0,\n",
    "    'verbose': False,\n",
    "    'percentage_to_freeze': None,\n",
    "})\n",
    "\n",
    "device = torch.device('cuda:0')\n",
    "device = torch.device('cpu')"
   ]
  },
  {
   "cell_type": "code",
   "execution_count": 4,
   "metadata": {},
   "outputs": [],
   "source": [
    "set_seed(args.seed)"
   ]
  },
  {
   "cell_type": "code",
   "execution_count": 5,
   "metadata": {},
   "outputs": [
    {
     "name": "stdout",
     "output_type": "stream",
     "text": [
      "loading annotations into memory...\n",
      "Done (t=0.26s)\n",
      "creating index...\n",
      "index created!\n",
      "loading annotations into memory...\n",
      "Done (t=0.28s)\n",
      "creating index...\n",
      "index created!\n",
      "loading annotations into memory...\n",
      "Done (t=0.04s)\n",
      "creating index...\n",
      "index created!\n"
     ]
    }
   ],
   "source": [
    "# Get data loaders with applied transformations\n",
    "loaders, num_classes = get_loaders(\n",
    "    dataset='waste', \n",
    "    batch_size=args.batch_size, \n",
    "    seed=args.seed, \n",
    "    num_workers=1,\n",
    "    img_size = (512, 512),\n",
    "    region_size = (args.region_size, args.region_size),\n",
    "    use_super_categories=args.use_super_categories,\n",
    "    root = args.data_path,\n",
    ")\n",
    "\n",
    "id2cat = loaders['train'].dataset.id2cat"
   ]
  },
  {
   "cell_type": "code",
   "execution_count": 6,
   "metadata": {},
   "outputs": [],
   "source": [
    "loss_fun = get_loss(args.loss)\n",
    "optimizer = get_optimizer(args.optimizer)\n",
    "\n",
    "model = get_model(args.model_name, args, loss_fun, optimizer, out=args.out, num_classes=num_classes, region_size=(args.region_size, args.region_size), id2cat=loaders['train'].dataset.id2cat)"
   ]
  },
  {
   "cell_type": "code",
   "execution_count": 7,
   "metadata": {},
   "outputs": [
    {
     "name": "stdout",
     "output_type": "stream",
     "text": [
      "Checkpoint loaded!\n"
     ]
    }
   ],
   "source": [
    "BASE_PATH = '/work3/s194253/02514/project4_results/logs/albertkjoller_efficientnet_crossentropy_resnet/resnet18/albertkjoller_efficientnet_crossentropy_resnet/resnet18/'\n",
    "\n",
    "\n",
    "VERSION = 0\n",
    "EPOCH_NAME = 'epoch=6_loss_val=0.3089.ckpt'\n",
    "\n",
    "checkpoint_path = BASE_PATH + f'version_{VERSION}/checkpoints/' + EPOCH_NAME\n",
    "\n",
    "model = model.load_from_checkpoint(checkpoint_path, loss_fun=loss_fun)\n",
    "model.eval()\n",
    "model.to(device)\n",
    "print(\"Checkpoint loaded!\")"
   ]
  },
  {
   "cell_type": "code",
   "execution_count": 8,
   "metadata": {},
   "outputs": [],
   "source": [
    "from src.utils import plot_SS\n",
    "from torchvision.ops import box_iou, nms"
   ]
  },
  {
   "cell_type": "code",
   "execution_count": 9,
   "metadata": {},
   "outputs": [
    {
     "name": "stdout",
     "output_type": "stream",
     "text": [
      "pred_cat: tensor([28, 28, 28, 28,  1, 28, 28, 28, 28, 25, 28, 28, 28, 28, 28, 28, 28, 28,\n",
      "        28, 28,  1, 28, 28, 28, 28, 28, 28,  1, 28, 28, 28, 28, 28, 28,  1, 19,\n",
      "        28,  0, 28, 28,  1, 28, 28, 28, 28, 28, 19, 28, 19, 28, 28, 28, 28, 28,\n",
      "        28, 28, 28, 28, 28, 28,  1, 26, 19, 28, 28, 28,  1,  1, 28, 28, 28, 28,\n",
      "        28, 28, 28, 28, 28,  0, 28, 28, 28, 28, 28, 28, 28,  1, 28, 28, 28,  1,\n",
      "        28, 28, 28, 28, 28,  1, 28, 28,  1, 28, 19, 28, 19, 28, 28, 28, 28, 28,\n",
      "        28, 28, 28, 28, 19, 28, 28,  0,  1, 28, 28, 28, 28,  1, 28,  1, 28, 28,\n",
      "        28,  0, 28, 28, 28, 28, 28, 28, 28, 28,  1,  1, 28,  1, 28, 28, 28, 28,\n",
      "        28, 28, 19, 28, 28,  0, 28, 28, 28])\n"
     ]
    }
   ],
   "source": [
    "batch_idx = 1\n",
    "batch = loaders['test'].dataset.__getitem__(batch_idx)\n",
    "\n",
    "# for each image\n",
    "i = 0\n",
    "(img, cat_ids, bboxes_data, pred_bboxes_data) = batch\n",
    "\n",
    "# for each bounding box\n",
    "(bboxes, regions)           = bboxes_data # - not available at this point\n",
    "(pred_bboxes, pred_regions) = pred_bboxes_data\n",
    "\n",
    "# Classify proposed regions\n",
    "y_hat = model.forward(pred_regions.to(device))\n",
    "\n",
    "# maximum probabilities\n",
    "outputs = torch.nn.functional.softmax(y_hat, dim=1)\n",
    "pred_prob, pred_cat = torch.max(outputs, 1)\n",
    "\n",
    "print(\"pred_cat:\", pred_cat)\n",
    "\n",
    "# Applying NMS (remove redundant boxes)\n",
    "keep_indices = nms(pred_bboxes.to(torch.float).to(device), pred_prob, 0.5).cpu()\n",
    "\n",
    "# Computing AP\n",
    "preds = {'boxes': pred_bboxes.cpu()[keep_indices][pred_cat.cpu()[keep_indices] != max(model.id2cat.keys())], \n",
    "        'scores': pred_prob.cpu()[keep_indices][pred_cat.cpu()[keep_indices]   != max(model.id2cat.keys())], \n",
    "        'labels': pred_cat.cpu()[keep_indices][pred_cat.cpu()[keep_indices]    != max(model.id2cat.keys())]} \n",
    "\n",
    "targets = {\n",
    "    'boxes':  bboxes, \n",
    "    'labels': cat_ids.flatten()\n",
    "}"
   ]
  },
  {
   "cell_type": "code",
   "execution_count": 10,
   "metadata": {},
   "outputs": [
    {
     "data": {
      "text/plain": [
       "tensor([ 0,  0,  1, 19,  1, 25, 26,  1,  1,  1, 19, 19])"
      ]
     },
     "execution_count": 10,
     "metadata": {},
     "output_type": "execute_result"
    }
   ],
   "source": [
    "preds['labels']"
   ]
  },
  {
   "cell_type": "code",
   "execution_count": 41,
   "metadata": {},
   "outputs": [],
   "source": [
    "plot_SS(\n",
    "    img, \n",
    "    targets['boxes'].detach().cpu(), \n",
    "    targets['labels'].detach().cpu(), \n",
    "    preds['boxes'].detach().cpu(), \n",
    "    preds['labels'].detach().cpu(), \n",
    "    preds['scores'].detach().cpu(),\n",
    "    i,\n",
    "    batch_idx,\n",
    "    id2cat,\n",
    "    path = './'\n",
    ")"
   ]
  },
  {
   "cell_type": "code",
   "execution_count": 21,
   "metadata": {},
   "outputs": [],
   "source": [
    "import matplotlib.pyplot as plt\n",
    "from sklearn.metrics import confusion_matrix, ConfusionMatrixDisplay"
   ]
  },
  {
   "cell_type": "code",
   "execution_count": 22,
   "metadata": {},
   "outputs": [],
   "source": [
    "pred_matches, gt_matches, box_labels, gt2pred = model.compare_boxes(bboxes, cat_ids, pred_bboxes, num_classes)"
   ]
  },
  {
   "cell_type": "code",
   "execution_count": 23,
   "metadata": {},
   "outputs": [
    {
     "ename": "IndexError",
     "evalue": "The shape of the mask [71] at index 0 does not match the shape of the indexed tensor [12] at index 0",
     "output_type": "error",
     "traceback": [
      "\u001b[0;31m---------------------------------------------------------------------------\u001b[0m",
      "\u001b[0;31mIndexError\u001b[0m                                Traceback (most recent call last)",
      "Cell \u001b[0;32mIn[23], line 1\u001b[0m\n\u001b[0;32m----> 1\u001b[0m preds[\u001b[39m'\u001b[39;49m\u001b[39mlabels\u001b[39;49m\u001b[39m'\u001b[39;49m][box_labels[keep_indices] \u001b[39m!=\u001b[39;49m \u001b[39m28\u001b[39;49m]\n",
      "\u001b[0;31mIndexError\u001b[0m: The shape of the mask [71] at index 0 does not match the shape of the indexed tensor [12] at index 0"
     ]
    }
   ],
   "source": [
    "preds['labels'][box_labels[keep_indices] != 28]"
   ]
  },
  {
   "cell_type": "code",
   "execution_count": 15,
   "metadata": {},
   "outputs": [
    {
     "ename": "ValueError",
     "evalue": "Found input variables with inconsistent numbers of samples: [1, 12]",
     "output_type": "error",
     "traceback": [
      "\u001b[0;31m---------------------------------------------------------------------------\u001b[0m",
      "\u001b[0;31mValueError\u001b[0m                                Traceback (most recent call last)",
      "Cell \u001b[0;32mIn[15], line 12\u001b[0m\n\u001b[1;32m      9\u001b[0m     \u001b[39m# plt.savefig(f'{folder_path}/idx{idx}.png', dpi=300, bbox_inches='tight')\u001b[39;00m\n\u001b[1;32m     10\u001b[0m     disp\u001b[39m.\u001b[39mplot(xticks_rotation\u001b[39m=\u001b[39m\u001b[39m0.2\u001b[39m)\n\u001b[0;32m---> 12\u001b[0m conf_mat(preds[\u001b[39m'\u001b[39;49m\u001b[39mlabels\u001b[39;49m\u001b[39m'\u001b[39;49m], targets[\u001b[39m'\u001b[39;49m\u001b[39mlabels\u001b[39;49m\u001b[39m'\u001b[39;49m], id2cat, \u001b[39m0\u001b[39;49m)\n",
      "Cell \u001b[0;32mIn[15], line 3\u001b[0m, in \u001b[0;36mconf_mat\u001b[0;34m(preds, targets, classes, idx)\u001b[0m\n\u001b[1;32m      1\u001b[0m \u001b[39mdef\u001b[39;00m \u001b[39mconf_mat\u001b[39m(preds, targets, classes, idx):\n\u001b[1;32m      2\u001b[0m     fig, ax \u001b[39m=\u001b[39m plt\u001b[39m.\u001b[39msubplots(\u001b[39m1\u001b[39m, figsize\u001b[39m=\u001b[39m(\u001b[39m8\u001b[39m, \u001b[39m8\u001b[39m))\n\u001b[0;32m----> 3\u001b[0m     cm \u001b[39m=\u001b[39m confusion_matrix(targets, preds, labels\u001b[39m=\u001b[39;49m\u001b[39mlist\u001b[39;49m(classes\u001b[39m.\u001b[39;49mkeys()))\n\u001b[1;32m      4\u001b[0m     disp \u001b[39m=\u001b[39m ConfusionMatrixDisplay(confusion_matrix\u001b[39m=\u001b[39mcm,\n\u001b[1;32m      5\u001b[0m                                 display_labels\u001b[39m=\u001b[39mclasses\u001b[39m.\u001b[39mvalues())\n\u001b[1;32m      6\u001b[0m     path \u001b[39m=\u001b[39m \u001b[39m'\u001b[39m\u001b[39m/work3/s184984/02514/project4_results/predict_imgs\u001b[39m\u001b[39m'\u001b[39m\n",
      "File \u001b[0;32m~/DLinCV/DLCV/lib/python3.11/site-packages/sklearn/metrics/_classification.py:317\u001b[0m, in \u001b[0;36mconfusion_matrix\u001b[0;34m(y_true, y_pred, labels, sample_weight, normalize)\u001b[0m\n\u001b[1;32m    232\u001b[0m \u001b[39mdef\u001b[39;00m \u001b[39mconfusion_matrix\u001b[39m(\n\u001b[1;32m    233\u001b[0m     y_true, y_pred, \u001b[39m*\u001b[39m, labels\u001b[39m=\u001b[39m\u001b[39mNone\u001b[39;00m, sample_weight\u001b[39m=\u001b[39m\u001b[39mNone\u001b[39;00m, normalize\u001b[39m=\u001b[39m\u001b[39mNone\u001b[39;00m\n\u001b[1;32m    234\u001b[0m ):\n\u001b[1;32m    235\u001b[0m \u001b[39m    \u001b[39m\u001b[39m\"\"\"Compute confusion matrix to evaluate the accuracy of a classification.\u001b[39;00m\n\u001b[1;32m    236\u001b[0m \n\u001b[1;32m    237\u001b[0m \u001b[39m    By definition a confusion matrix :math:`C` is such that :math:`C_{i, j}`\u001b[39;00m\n\u001b[0;32m   (...)\u001b[0m\n\u001b[1;32m    315\u001b[0m \u001b[39m    (0, 2, 1, 1)\u001b[39;00m\n\u001b[1;32m    316\u001b[0m \u001b[39m    \"\"\"\u001b[39;00m\n\u001b[0;32m--> 317\u001b[0m     y_type, y_true, y_pred \u001b[39m=\u001b[39m _check_targets(y_true, y_pred)\n\u001b[1;32m    318\u001b[0m     \u001b[39mif\u001b[39;00m y_type \u001b[39mnot\u001b[39;00m \u001b[39min\u001b[39;00m (\u001b[39m\"\u001b[39m\u001b[39mbinary\u001b[39m\u001b[39m\"\u001b[39m, \u001b[39m\"\u001b[39m\u001b[39mmulticlass\u001b[39m\u001b[39m\"\u001b[39m):\n\u001b[1;32m    319\u001b[0m         \u001b[39mraise\u001b[39;00m \u001b[39mValueError\u001b[39;00m(\u001b[39m\"\u001b[39m\u001b[39m%s\u001b[39;00m\u001b[39m is not supported\u001b[39m\u001b[39m\"\u001b[39m \u001b[39m%\u001b[39m y_type)\n",
      "File \u001b[0;32m~/DLinCV/DLCV/lib/python3.11/site-packages/sklearn/metrics/_classification.py:86\u001b[0m, in \u001b[0;36m_check_targets\u001b[0;34m(y_true, y_pred)\u001b[0m\n\u001b[1;32m     59\u001b[0m \u001b[39mdef\u001b[39;00m \u001b[39m_check_targets\u001b[39m(y_true, y_pred):\n\u001b[1;32m     60\u001b[0m \u001b[39m    \u001b[39m\u001b[39m\"\"\"Check that y_true and y_pred belong to the same classification task.\u001b[39;00m\n\u001b[1;32m     61\u001b[0m \n\u001b[1;32m     62\u001b[0m \u001b[39m    This converts multiclass or binary types to a common shape, and raises a\u001b[39;00m\n\u001b[0;32m   (...)\u001b[0m\n\u001b[1;32m     84\u001b[0m \u001b[39m    y_pred : array or indicator matrix\u001b[39;00m\n\u001b[1;32m     85\u001b[0m \u001b[39m    \"\"\"\u001b[39;00m\n\u001b[0;32m---> 86\u001b[0m     check_consistent_length(y_true, y_pred)\n\u001b[1;32m     87\u001b[0m     type_true \u001b[39m=\u001b[39m type_of_target(y_true, input_name\u001b[39m=\u001b[39m\u001b[39m\"\u001b[39m\u001b[39my_true\u001b[39m\u001b[39m\"\u001b[39m)\n\u001b[1;32m     88\u001b[0m     type_pred \u001b[39m=\u001b[39m type_of_target(y_pred, input_name\u001b[39m=\u001b[39m\u001b[39m\"\u001b[39m\u001b[39my_pred\u001b[39m\u001b[39m\"\u001b[39m)\n",
      "File \u001b[0;32m~/DLinCV/DLCV/lib/python3.11/site-packages/sklearn/utils/validation.py:397\u001b[0m, in \u001b[0;36mcheck_consistent_length\u001b[0;34m(*arrays)\u001b[0m\n\u001b[1;32m    395\u001b[0m uniques \u001b[39m=\u001b[39m np\u001b[39m.\u001b[39munique(lengths)\n\u001b[1;32m    396\u001b[0m \u001b[39mif\u001b[39;00m \u001b[39mlen\u001b[39m(uniques) \u001b[39m>\u001b[39m \u001b[39m1\u001b[39m:\n\u001b[0;32m--> 397\u001b[0m     \u001b[39mraise\u001b[39;00m \u001b[39mValueError\u001b[39;00m(\n\u001b[1;32m    398\u001b[0m         \u001b[39m\"\u001b[39m\u001b[39mFound input variables with inconsistent numbers of samples: \u001b[39m\u001b[39m%r\u001b[39;00m\u001b[39m\"\u001b[39m\n\u001b[1;32m    399\u001b[0m         \u001b[39m%\u001b[39m [\u001b[39mint\u001b[39m(l) \u001b[39mfor\u001b[39;00m l \u001b[39min\u001b[39;00m lengths]\n\u001b[1;32m    400\u001b[0m     )\n",
      "\u001b[0;31mValueError\u001b[0m: Found input variables with inconsistent numbers of samples: [1, 12]"
     ]
    },
    {
     "data": {
      "image/png": "[encoded data removed]",
      "text/plain": [
       "<Figure size 800x800 with 1 Axes>"
      ]
     },
     "metadata": {},
     "output_type": "display_data"
    }
   ],
   "source": [
    "def conf_mat(preds, targets, classes, idx):\n",
    "    fig, ax = plt.subplots(1, figsize=(8, 8))\n",
    "    cm = confusion_matrix(targets, preds, labels=list(classes.keys()))\n",
    "    disp = ConfusionMatrixDisplay(confusion_matrix=cm,\n",
    "                                display_labels=classes.values())\n",
    "    path = '/work3/s184984/02514/project4_results/predict_imgs'\n",
    "    # disp.ax_.rotate_yticklabels(20)\n",
    "    folder_path = f\"{path}/{path.split('/')[-1]}_batchidx{batch_idx}\"\n",
    "    # plt.savefig(f'{folder_path}/idx{idx}.png', dpi=300, bbox_inches='tight')\n",
    "    disp.plot(xticks_rotation=0.2)\n",
    "\n",
    "conf_mat(preds['labels'], targets['labels'], id2cat, 0)"
   ]
  },
  {
   "cell_type": "code",
   "execution_count": null,
   "metadata": {},
   "outputs": [],
   "source": []
  },
  {
   "cell_type": "code",
   "execution_count": null,
   "metadata": {},
   "outputs": [],
   "source": [
    "\n",
    "\n",
    "fig = plt.figure()\n",
    "ax = fig.add_subplot(111)\n",
    "\n",
    "ax.imshow(img.permute(1,2,0))\n",
    "for i, bbox in enumerate(preds['boxes'][preds['labels'] != 28]):\n",
    "    rect = patches.Rectangle(\n",
    "        (bbox[0].item(), bbox[1].item()), \n",
    "        width=(bbox[2] - bbox[0]).item(), \n",
    "        height=(bbox[3] - bbox[1]).item(), \n",
    "        linewidth=2, \n",
    "        edgecolor=f\"r\", \n",
    "        facecolor='none'\n",
    "    )\n",
    "    ax.add_patch(rect)\n",
    "\n",
    "for i, bbox in enumerate(targets['boxes']):\n",
    "    rect = patches.Rectangle(\n",
    "        (bbox[0].item(), bbox[1].item()), \n",
    "        width=(bbox[2] - bbox[0]).item(), \n",
    "        height=(bbox[3] - bbox[1]).item(), \n",
    "        linewidth=2, \n",
    "        edgecolor=f\"b\", \n",
    "        facecolor='none'\n",
    "    )\n",
    "    ax.add_patch(rect)\n",
    "    \n",
    "plt.show()\n",
    "plt.close()\n",
    "fig.close()"
   ]
  },
  {
   "cell_type": "code",
   "execution_count": null,
   "metadata": {},
   "outputs": [],
   "source": []
  },
  {
   "cell_type": "code",
   "execution_count": null,
   "metadata": {},
   "outputs": [],
   "source": []
  },
  {
   "cell_type": "code",
   "execution_count": null,
   "metadata": {},
   "outputs": [],
   "source": [
    "checkpoint_path = '/work3/s194253/02514/project4_results/logs/albertkjoller_efficientnet/efficientnet_b4/albertkjoller_efficientnet/efficientnet_b4/version_2/checkpoints/epoch=28_val_loss=0.0000.ckpt'\n",
    "\n",
    "model.load_from_checkpoint(checkpoint_path)"
   ]
  },
  {
   "attachments": {},
   "cell_type": "markdown",
   "metadata": {},
   "source": []
  }
 ],
 "metadata": {
  "kernelspec": {
   "display_name": "Python 3 (ipykernel)",
   "language": "python",
   "name": "python3"
  },
  "language_info": {
   "codemirror_mode": {
    "name": "ipython",
    "version": 3
   },
   "file_extension": ".py",
   "mimetype": "text/x-python",
   "name": "python",
   "nbconvert_exporter": "python",
   "pygments_lexer": "ipython3",
   "version": "3.11.3"
  }
 },
 "nbformat": 4,
 "nbformat_minor": 2
}
