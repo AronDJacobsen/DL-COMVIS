{
 "cells": [
  {
   "attachments": {},
   "cell_type": "markdown",
   "metadata": {},
   "source": [
    "# TACO Inspection Demo\n",
    "\n",
    "This notebook contains several independent scripts that show how to load and visualize the dataset stats and annotated images:\n",
    "- Section 1 shows the dataset stats\n",
    "- Section 2 show the class hierarchical structure: super classes and classes\n",
    "- Section 3 shows TACO images along with their segmentation masks\n",
    "\n",
    "But first we need to load the annotations and some python libraries:"
   ]
  },
  {
   "cell_type": "code",
   "execution_count": null,
   "metadata": {},
   "outputs": [],
   "source": [
    "%matplotlib inline\n",
    "%config InlineBackend.figure_format = 'retina'\n",
    "import json\n",
    "import numpy as np\n",
    "import pandas as pd\n",
    "import matplotlib.pyplot as plt\n",
    "import seaborn as sns; sns.set()\n",
    "\n",
    "dataset_path = '/dtu/datasets1/02514/data_wastedetection'\n",
    "anns_file_path = dataset_path + '/' + 'annotations.json'\n",
    "\n",
    "# Read annotations\n",
    "with open(anns_file_path, 'r') as f:\n",
    "    dataset = json.loads(f.read())\n",
    "\n",
    "categories = dataset['categories']\n",
    "anns = dataset['annotations']\n",
    "imgs = dataset['images']\n",
    "nr_cats = len(categories)\n",
    "nr_annotations = len(anns)\n",
    "nr_images = len(imgs)\n",
    "\n",
    "# Load categories and super categories\n",
    "cat_names = []\n",
    "super_cat_names = []\n",
    "super_cat_ids = {}\n",
    "super_cat_last_name = ''\n",
    "nr_super_cats = 0\n",
    "for cat_it in categories:\n",
    "    cat_names.append(cat_it['name'])\n",
    "    super_cat_name = cat_it['supercategory']\n",
    "    # Adding new supercat\n",
    "    if super_cat_name != super_cat_last_name:\n",
    "        super_cat_names.append(super_cat_name)\n",
    "        super_cat_ids[super_cat_name] = nr_super_cats\n",
    "        super_cat_last_name = super_cat_name\n",
    "        nr_super_cats += 1\n",
    "\n",
    "print('Number of super categories:', nr_super_cats)\n",
    "print('Number of categories:', nr_cats)\n",
    "print('Number of annotations:', nr_annotations)\n",
    "print('Number of images:', nr_images)"
   ]
  },
  {
   "attachments": {},
   "cell_type": "markdown",
   "metadata": {},
   "source": [
    "## 1.  Dataset statistics\n",
    "\n",
    "This shows the number of annotations per category:"
   ]
  },
  {
   "cell_type": "code",
   "execution_count": null,
   "metadata": {},
   "outputs": [],
   "source": [
    "dataset.keys()"
   ]
  },
  {
   "cell_type": "code",
   "execution_count": null,
   "metadata": {},
   "outputs": [],
   "source": [
    "img_paths = [dataset['images'][i]['file_name'] for i in range(len(dataset['images']))]\n",
    "annotations = [dataset['annotations'][i]['bbox'] for i in range(len(dataset['annotations']))]\n",
    "categories = [dataset['categories'][i]['supercategory'] for i in range(len(dataset['categories']))]\n",
    "for idx, i in enumerate(zip(img_paths, annotations, categories)):\n",
    "    # print(i)\n",
    "    if len(i[1]) == 2:\n",
    "        print(len(i[1]))\n",
    "        print(i)\n",
    "        # break"
   ]
  },
  {
   "cell_type": "code",
   "execution_count": null,
   "metadata": {},
   "outputs": [],
   "source": [
    "len(annotations)"
   ]
  },
  {
   "cell_type": "code",
   "execution_count": null,
   "metadata": {},
   "outputs": [],
   "source": [
    "dataset['images'][0], dataset['annotations'][0], dataset['scene_annotations'][0], dataset['categories'][0], dataset['scene_categories'][0]"
   ]
  },
  {
   "cell_type": "code",
   "execution_count": null,
   "metadata": {},
   "outputs": [],
   "source": [
    "plt.close()"
   ]
  },
  {
   "cell_type": "code",
   "execution_count": null,
   "metadata": {},
   "outputs": [],
   "source": [
    "# Count annotations\n",
    "cat_histogram = np.zeros(nr_cats,dtype=int)\n",
    "for ann in anns:\n",
    "    cat_histogram[ann['category_id']] += 1\n",
    "\n",
    "# Initialize the matplotlib figure\n",
    "f, ax = plt.subplots(figsize=(5,15))\n",
    "\n",
    "# Convert to DataFrame\n",
    "df = pd.DataFrame({'Categories': cat_names, 'Number of annotations': cat_histogram})\n",
    "df = df.sort_values('Number of annotations', axis=0, ascending=False)\n",
    "\n",
    "# Plot the histogram\n",
    "# sns.set_color_codes(\"pastel\")\n",
    "# sns.set(style=\"whitegrid\")\n",
    "plot_1 = sns.barplot(x=\"Number of annotations\", y=\"Categories\", data=df,\n",
    "            label=\"Total\", color=\"b\")\n",
    "\n",
    "# fig = plot_1.get_figure()\n",
    "# fig.savefig(\"output.png\")"
   ]
  },
  {
   "attachments": {},
   "cell_type": "markdown",
   "metadata": {},
   "source": [
    "and this shows the number of annotations per super category:"
   ]
  },
  {
   "cell_type": "code",
   "execution_count": null,
   "metadata": {},
   "outputs": [],
   "source": [
    "cat_ids_2_supercat_ids = {}\n",
    "for cat in categories:\n",
    "    cat_ids_2_supercat_ids[cat['id']] = super_cat_ids[cat['supercategory']]\n",
    "\n",
    "# Count annotations\n",
    "super_cat_histogram = np.zeros(nr_super_cats,dtype=int)\n",
    "for ann in anns:\n",
    "    cat_id = ann['category_id']\n",
    "    super_cat_histogram[cat_ids_2_supercat_ids[cat_id]] +=1\n",
    "    \n",
    "# Initialize the matplotlib figure\n",
    "f, ax = plt.subplots(figsize=(5,10))\n",
    "\n",
    "# Convert to DataFrame\n",
    "d ={'Super categories': super_cat_names, 'Number of annotations': super_cat_histogram}\n",
    "df = pd.DataFrame(d)\n",
    "df = df.sort_values('Number of annotations', axis=0, ascending=False)\n",
    "\n",
    "# sns.set_color_codes(\"pastel\")\n",
    "# sns.set(style=\"whitegrid\")\n",
    "plot_1 = sns.barplot(x=\"Number of annotations\", y=\"Super categories\", data=df,\n",
    "            label=\"Total\", color=\"b\")\n",
    "#plot_1.set_title('Annotations per super category',fontsize=20)   "
   ]
  },
  {
   "attachments": {},
   "cell_type": "markdown",
   "metadata": {},
   "source": [
    "### 1.1  Background stats"
   ]
  },
  {
   "cell_type": "code",
   "execution_count": null,
   "metadata": {},
   "outputs": [],
   "source": [
    "# Get scene cat names\n",
    "scene_cats = dataset['scene_categories']\n",
    "scene_name = []\n",
    "for scene_cat in scene_cats:\n",
    "    scene_name.append(scene_cat['name'])\n",
    "\n",
    "nr_scenes = len(scene_cats)\n",
    "scene_cat_histogram = np.zeros(nr_scenes,dtype=int)\n",
    "\n",
    "for scene_ann in dataset['scene_annotations']:    \n",
    "    scene_ann_ids = scene_ann['background_ids']\n",
    "    for scene_ann_id in scene_ann_ids:\n",
    "        if scene_ann_id<len(scene_cats):\n",
    "            scene_cat_histogram[scene_ann_id]+=1\n",
    "\n",
    "# Convert to DataFrame\n",
    "df = pd.DataFrame({'scene_cats': scene_cats, 'nr_annotations': scene_cat_histogram})\n",
    " \n",
    "# Plot\n",
    "colors = ['white','black','gray', 'gold', 'red','green','lightskyblue']\n",
    "plt.pie(scene_cat_histogram, labels=scene_name, colors = colors,\n",
    "      shadow=False, startangle=-120)\n",
    " \n",
    "plt.axis('equal')\n",
    "plt.show()"
   ]
  },
  {
   "attachments": {},
   "cell_type": "markdown",
   "metadata": {},
   "source": [
    "## 2. Visualize dataset graph"
   ]
  },
  {
   "cell_type": "code",
   "execution_count": null,
   "metadata": {
    "scrolled": false
   },
   "outputs": [],
   "source": [
    "from graphviz import Digraph\n",
    "# Note: graphviz may require more than pip installation due to path issue: e.g. brew install graphviz for mac\n",
    "\n",
    "#g = Digraph('G', filename='hello.gv')\n",
    "dot = Digraph('Dataset graph', filename='asd.gv')\n",
    "dot.attr(rankdir='LR', size='8,10')\n",
    "\n",
    "for cat_it in categories:\n",
    "    dot.node(cat_it['name'])\n",
    "    if cat_it['name']==cat_it['supercategory']:\n",
    "        dot.node(cat_it['supercategory'])\n",
    "    else:\n",
    "        dot.edge(cat_it['supercategory'], cat_it['name'])\n",
    "dot\n",
    "# Uncomment next line to print pdf\n",
    "#dot.view()"
   ]
  },
  {
   "attachments": {},
   "cell_type": "markdown",
   "metadata": {},
   "source": [
    "## 3. Visualize Annotated Images"
   ]
  },
  {
   "attachments": {},
   "cell_type": "markdown",
   "metadata": {},
   "source": [
    "For simplicity, to select and show the dataset images with the respective masks, we make use of the COCO API.\n",
    "The script below shows how to load and visualize an image with all its annotations.\n",
    "\n",
    "Unfortunately, several python libraries do not take into account the EXIF orientation tag, thus we have to explicitly rotate the images. Alternatively you can use instead OpenCV."
   ]
  },
  {
   "cell_type": "code",
   "execution_count": null,
   "metadata": {},
   "outputs": [],
   "source": [
    "from PIL import Image, ExifTags\n",
    "from pycocotools.coco import COCO\n",
    "from matplotlib.patches import Polygon, Rectangle\n",
    "from matplotlib.collections import PatchCollection\n",
    "import colorsys\n",
    "import random\n",
    "import pylab\n",
    "\n",
    "# User settings\n",
    "image_filepath = 'batch_11/000028.jpg'\n",
    "pylab.rcParams['figure.figsize'] = (28,28)\n",
    "####################\n",
    "\n",
    "# Obtain Exif orientation tag code\n",
    "for orientation in ExifTags.TAGS.keys():\n",
    "    if ExifTags.TAGS[orientation] == 'Orientation':\n",
    "        break\n",
    "\n",
    "# Loads dataset as a coco object\n",
    "coco = COCO(anns_file_path)\n",
    "\n",
    "# Find image id\n",
    "img_id = -1\n",
    "for img in imgs:\n",
    "    if img['file_name'] == image_filepath:\n",
    "        img_id = img['id']\n",
    "        break\n",
    "\n",
    "# Show image and corresponding annotations\n",
    "if img_id == -1:\n",
    "    print('Incorrect file name')\n",
    "else:\n",
    "\n",
    "    # Load image\n",
    "    print(image_filepath)\n",
    "    I = Image.open(dataset_path + '/' + image_filepath)\n",
    "\n",
    "    # Load and process image metadata\n",
    "    if I._getexif():\n",
    "        exif = dict(I._getexif().items())\n",
    "        # Rotate portrait and upside down images if necessary\n",
    "        if orientation in exif:\n",
    "            if exif[orientation] == 3:\n",
    "                I = I.rotate(180,expand=True)\n",
    "            if exif[orientation] == 6:\n",
    "                I = I.rotate(270,expand=True)\n",
    "            if exif[orientation] == 8:\n",
    "                I = I.rotate(90,expand=True)\n",
    "\n",
    "    # Show image\n",
    "    fig,ax = plt.subplots(1)\n",
    "    plt.axis('off')\n",
    "    plt.imshow(I)\n",
    "\n",
    "    # Load mask ids\n",
    "    annIds = coco.getAnnIds(imgIds=img_id, catIds=[], iscrowd=None)\n",
    "    anns_sel = coco.loadAnns(annIds)\n",
    "\n",
    "    # Show annotations\n",
    "    for ann in anns_sel:\n",
    "        color = colorsys.hsv_to_rgb(np.random.random(),1,1)\n",
    "        for seg in ann['segmentation']:\n",
    "            poly = Polygon(np.array(seg).reshape((int(len(seg)/2), 2)))\n",
    "            p = PatchCollection([poly], facecolor=color, edgecolors=color,linewidths=0, alpha=0.4)\n",
    "            ax.add_collection(p)\n",
    "            p = PatchCollection([poly], facecolor='none', edgecolors=color, linewidths=2)\n",
    "            ax.add_collection(p)\n",
    "        [x, y, w, h] = ann['bbox']\n",
    "        rect = Rectangle((x,y),w,h,linewidth=2,edgecolor=color,\n",
    "                         facecolor='none', alpha=0.7, linestyle = '--')\n",
    "        ax.add_patch(rect)\n",
    "\n",
    "    plt.show()\n",
    "\n"
   ]
  },
  {
   "attachments": {},
   "cell_type": "markdown",
   "metadata": {},
   "source": [
    "The script below shows how to filter images by either category or supercategory.\n",
    "\n",
    "Go ahead and try different (super)categories searches by changing the `category_name`.\n",
    "Note that small objects may be hard to see."
   ]
  },
  {
   "cell_type": "code",
   "execution_count": null,
   "metadata": {},
   "outputs": [],
   "source": [
    "coco = COCO(anns_file_path)\n",
    "coco.dataset.keys()"
   ]
  },
  {
   "cell_type": "code",
   "execution_count": null,
   "metadata": {
    "scrolled": false
   },
   "outputs": [],
   "source": [
    "from PIL import Image, ExifTags\n",
    "from pycocotools.coco import COCO\n",
    "from matplotlib.patches import Polygon, Rectangle\n",
    "from matplotlib.collections import PatchCollection\n",
    "import colorsys\n",
    "import random\n",
    "import pylab\n",
    "\n",
    "# User settings\n",
    "nr_img_2_display = 10\n",
    "category_name = 'Bottle'#  --- Insert the name of one of the categories or super-categories above\n",
    "pylab.rcParams['figure.figsize'] = (14,14)\n",
    "####################\n",
    "\n",
    "# Obtain Exif orientation tag code\n",
    "for orientation in ExifTags.TAGS.keys():\n",
    "    if ExifTags.TAGS[orientation] == 'Orientation':\n",
    "        break\n",
    "\n",
    "# Loads dataset as a coco object\n",
    "coco = COCO(anns_file_path)\n",
    "\n",
    "# Get image ids\n",
    "imgIds = []\n",
    "catIds = coco.getCatIds(catNms=[category_name])\n",
    "if catIds:\n",
    "    # Get all images containing an instance of the chosen category\n",
    "    imgIds = coco.getImgIds(catIds=catIds)\n",
    "else:\n",
    "    # Get all images containing an instance of the chosen super category\n",
    "    catIds = coco.getCatIds(supNms=[category_name])\n",
    "    for catId in catIds:\n",
    "        imgIds += (coco.getImgIds(catIds=catId))\n",
    "    imgIds = list(set(imgIds))\n",
    "\n",
    "nr_images_found = len(imgIds) \n",
    "print('Number of images found: ',nr_images_found)\n",
    "\n",
    "# Select N random images\n",
    "random.shuffle(imgIds)\n",
    "imgs = coco.loadImgs(imgIds[0:min(nr_img_2_display,nr_images_found)])\n",
    "\n",
    "for img in imgs:\n",
    "    image_path = dataset_path + '/' + img['file_name']\n",
    "    # Load image\n",
    "    I = Image.open(image_path)\n",
    "    \n",
    "    # Load and process image metadata\n",
    "    if I._getexif():\n",
    "        exif = dict(I._getexif().items())\n",
    "        # Rotate portrait and upside down images if necessary\n",
    "        if orientation in exif:\n",
    "            if exif[orientation] == 3:\n",
    "                I = I.rotate(180,expand=True)\n",
    "            if exif[orientation] == 6:\n",
    "                I = I.rotate(270,expand=True)\n",
    "            if exif[orientation] == 8:\n",
    "                I = I.rotate(90,expand=True)\n",
    "    \n",
    "    # Show image\n",
    "    fig,ax = plt.subplots(1)\n",
    "    plt.axis('off')\n",
    "    plt.imshow(I)\n",
    "\n",
    "    # Load mask ids\n",
    "    annIds = coco.getAnnIds(imgIds=img['id'], catIds=catIds, iscrowd=None)\n",
    "    anns_sel = coco.loadAnns(annIds)\n",
    "    \n",
    "    # Show annotations\n",
    "    for ann in anns_sel:\n",
    "        color = colorsys.hsv_to_rgb(np.random.random(),1,1)\n",
    "        for seg in ann['segmentation']:\n",
    "            poly = Polygon(np.array(seg).reshape((int(len(seg)/2), 2)))\n",
    "            p = PatchCollection([poly], facecolor=color, edgecolors=color,linewidths=0, alpha=0.4)\n",
    "            ax.add_collection(p)\n",
    "            p = PatchCollection([poly], facecolor='none', edgecolors=color, linewidths=2)\n",
    "            ax.add_collection(p)\n",
    "        [x, y, w, h] = ann['bbox']\n",
    "        rect = Rectangle((x,y),w,h,linewidth=2,edgecolor=color,\n",
    "                         facecolor='none', alpha=0.7, linestyle = '--')\n",
    "        ax.add_patch(rect)\n",
    "\n",
    "    plt.show()\n"
   ]
  },
  {
   "cell_type": "code",
   "execution_count": null,
   "metadata": {},
   "outputs": [],
   "source": []
  }
 ],
 "metadata": {
  "kernelspec": {
   "display_name": "Python 3 (ipykernel)",
   "language": "python",
   "name": "python3"
  },
  "language_info": {
   "codemirror_mode": {
    "name": "ipython",
    "version": 3
   },
   "file_extension": ".py",
   "mimetype": "text/x-python",
   "name": "python",
   "nbconvert_exporter": "python",
   "pygments_lexer": "ipython3",
   "version": "3.11.3"
  }
 },
 "nbformat": 4,
 "nbformat_minor": 2
}
