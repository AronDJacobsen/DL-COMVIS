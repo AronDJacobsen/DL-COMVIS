{
 "cells": [
  {
   "cell_type": "code",
   "execution_count": 1,
   "metadata": {},
   "outputs": [],
   "source": [
    "import torch\n",
    "\n",
    "from src.data.project4.dataloader import get_loaders \n",
    "from src.models.project4.models import get_model\n",
    "from src.utils import set_seed, get_optimizer\n",
    "from src.models.project4.losses import get_loss\n",
    "\n",
    "import matplotlib.pyplot as plt\n",
    "import matplotlib.patches as patches\n",
    "\n",
    "from omegaconf import OmegaConf"
   ]
  },
  {
   "cell_type": "code",
   "execution_count": 2,
   "metadata": {},
   "outputs": [
    {
     "data": {
      "text/plain": [
       "True"
      ]
     },
     "execution_count": 2,
     "metadata": {},
     "output_type": "execute_result"
    }
   ],
   "source": [
    "torch.cuda.is_available()"
   ]
  },
  {
   "cell_type": "code",
   "execution_count": 3,
   "metadata": {},
   "outputs": [],
   "source": [
    "args = OmegaConf.create({\n",
    "    'model_name': 'efficientnet_b4',\n",
    "    'region_size': 224,\n",
    "    'batch_size': 1,\n",
    "    'optimizer': 'Adam',\n",
    "    'loss': 'BCE',\n",
    "    'data_path': '/work3/s194253/02514/project4_results/data_wastedetection',\n",
    "    'use_super_categories': True,\n",
    "    'lr': 1e-04,\n",
    "    'out': False,\n",
    "    'seed': 0,\n",
    "    'verbose': False,\n",
    "    'percentage_to_freeze': None,\n",
    "})\n",
    "\n",
    "device = torch.device('cuda:0')\n",
    "device = torch.device('cpu')"
   ]
  },
  {
   "cell_type": "code",
   "execution_count": 4,
   "metadata": {},
   "outputs": [],
   "source": [
    "set_seed(args.seed)"
   ]
  },
  {
   "cell_type": "code",
   "execution_count": 5,
   "metadata": {},
   "outputs": [
    {
     "name": "stdout",
     "output_type": "stream",
     "text": [
      "loading annotations into memory...\n",
      "Done (t=0.06s)\n",
      "creating index...\n",
      "index created!\n",
      "loading annotations into memory...\n",
      "Done (t=0.06s)\n",
      "creating index...\n",
      "index created!\n",
      "loading annotations into memory...\n",
      "Done (t=0.05s)\n",
      "creating index...\n",
      "index created!\n"
     ]
    }
   ],
   "source": [
    "# Get data loaders with applied transformations\n",
    "loaders, num_classes = get_loaders(\n",
    "    dataset='waste', \n",
    "    batch_size=args.batch_size, \n",
    "    seed=args.seed, \n",
    "    num_workers=1,\n",
    "    img_size = (512, 512),\n",
    "    region_size = (args.region_size, args.region_size),\n",
    "    use_super_categories=args.use_super_categories,\n",
    "    root = args.data_path,\n",
    ")\n",
    "\n",
    "id2cat = loaders['train'].dataset.id2cat"
   ]
  },
  {
   "cell_type": "code",
   "execution_count": 6,
   "metadata": {},
   "outputs": [],
   "source": [
    "loss_fun = get_loss(args.loss)\n",
    "optimizer = get_optimizer(args.optimizer)\n",
    "\n",
    "model = get_model(args.model_name, args, loss_fun, optimizer, out=args.out, num_classes=num_classes, region_size=(args.region_size, args.region_size), id2cat=loaders['train'].dataset.id2cat)"
   ]
  },
  {
   "cell_type": "code",
   "execution_count": 7,
   "metadata": {},
   "outputs": [
    {
     "name": "stdout",
     "output_type": "stream",
     "text": [
      "Checkpoint loaded!\n"
     ]
    }
   ],
   "source": [
    "BASE_PATH = '/work3/s194253/02514/project4_results/logs/albertkjoller_efficientnet_crossentropy_resnet/resnet18/albertkjoller_efficientnet_crossentropy_resnet/resnet18/'\n",
    "\n",
    "\n",
    "VERSION = 0\n",
    "EPOCH_NAME = 'epoch=6_loss_val=0.3089.ckpt'\n",
    "\n",
    "checkpoint_path = BASE_PATH + f'version_{VERSION}/checkpoints/' + EPOCH_NAME\n",
    "\n",
    "model = model.load_from_checkpoint(checkpoint_path, loss_fun=loss_fun)\n",
    "model.to(device)\n",
    "\n",
    "model.eval()\n",
    "\n",
    "print(\"Checkpoint loaded!\")"
   ]
  },
  {
   "cell_type": "code",
   "execution_count": null,
   "metadata": {},
   "outputs": [],
   "source": []
  },
  {
   "cell_type": "code",
   "execution_count": 8,
   "metadata": {},
   "outputs": [],
   "source": [
    "from src.utils import plot_SS\n",
    "from torchvision.ops import box_iou, nms"
   ]
  },
  {
   "cell_type": "code",
   "execution_count": 9,
   "metadata": {},
   "outputs": [
    {
     "name": "stdout",
     "output_type": "stream",
     "text": [
      "pred_cat: tensor([28, 28, 28, 28,  1, 28, 28, 28, 28, 25, 28, 28, 28, 28, 28, 28, 28, 28,\n",
      "        28, 28,  1, 28, 28, 28, 28, 28, 28,  1, 28, 28, 28, 28, 28, 28,  1, 19,\n",
      "        28,  0, 28, 28,  1, 28, 28, 28, 28, 28, 19, 28, 19, 28, 28, 28, 28, 28,\n",
      "        28, 28, 28, 28, 28, 28,  1, 26, 19, 28, 28, 28,  1,  1, 28, 28, 28, 28,\n",
      "        28, 28, 28, 28, 28,  0, 28, 28, 28, 28, 28, 28, 28,  1, 28, 28, 28,  1,\n",
      "        28, 28, 28, 28, 28,  1, 28, 28,  1, 28, 19, 28, 19, 28, 28, 28, 28, 28,\n",
      "        28, 28, 28, 28, 19, 28, 28,  0,  1, 28, 28, 28, 28,  1, 28,  1, 28, 28,\n",
      "        28,  0, 28, 28, 28, 28, 28, 28, 28, 28,  1,  1, 28,  1, 28, 28, 28, 28,\n",
      "        28, 28, 19, 28, 28,  0, 28, 28, 28])\n"
     ]
    }
   ],
   "source": [
    "batch_idx = 1\n",
    "batch = loaders['test'].dataset.__getitem__(batch_idx)\n",
    "\n",
    "# for each image\n",
    "i = 0\n",
    "(img, cat_ids, bboxes_data, pred_bboxes_data) = batch\n",
    "\n",
    "# for each bounding box\n",
    "(bboxes, regions)           = bboxes_data # - not available at this point\n",
    "(pred_bboxes, pred_regions) = pred_bboxes_data\n",
    "\n",
    "# Classify proposed regions\n",
    "y_hat = model.forward(pred_regions.to(device))\n",
    "\n",
    "# maximum probabilities\n",
    "outputs = torch.nn.functional.softmax(y_hat, dim=1)\n",
    "pred_prob, pred_cat = torch.max(outputs, 1)\n",
    "\n",
    "print(\"pred_cat:\", pred_cat)\n",
    "\n",
    "# # Applying NMS (remove redundant boxes)\n",
    "keep_indices = []\n",
    "for cat in pred_cat.unique():\n",
    "    keep_indices += nms(pred_bboxes[pred_cat == cat].to(torch.float).to(device), pred_prob[pred_cat == cat], 0.5).cpu()\n",
    "keep_indices = torch.tensor(keep_indices)\n",
    "\n",
    "# Computing AP\n",
    "preds = {'boxes': pred_bboxes.cpu()[keep_indices][pred_cat.cpu()[keep_indices] != max(model.id2cat.keys())], \n",
    "        'scores': pred_prob.cpu()[keep_indices][pred_cat.cpu()[keep_indices]   != max(model.id2cat.keys())], \n",
    "        'labels': pred_cat.cpu()[keep_indices][pred_cat.cpu()[keep_indices]    != max(model.id2cat.keys())]} \n",
    "\n",
    "targets = {\n",
    "    'boxes':  bboxes, \n",
    "    'labels': cat_ids.flatten()\n",
    "}"
   ]
  },
  {
   "cell_type": "code",
   "execution_count": 11,
   "metadata": {},
   "outputs": [
    {
     "data": {
      "text/plain": [
       "Counter({28: 120, 1: 18, 19: 8, 0: 5, 25: 1, 26: 1})"
      ]
     },
     "execution_count": 11,
     "metadata": {},
     "output_type": "execute_result"
    }
   ],
   "source": [
    "from collections import Counter\n",
    "Counter(pred_cat.numpy())"
   ]
  },
  {
   "cell_type": "code",
   "execution_count": 16,
   "metadata": {},
   "outputs": [],
   "source": [
    "fig = plt.figure(figsize=(18, 6))\n",
    "\n",
    "ax = fig.add_subplot(131)\n",
    "ax.imshow(img.permute(1,2,0))\n",
    "for i, bbox in enumerate(pred_bboxes):\n",
    "    rect = patches.Rectangle(\n",
    "        (bbox[0].item(), bbox[1].item()), \n",
    "        width=(bbox[2] - bbox[0]).item(), \n",
    "        height=(bbox[3] - bbox[1]).item(), \n",
    "        linewidth=4, \n",
    "        edgecolor=f\"r\", \n",
    "        facecolor='none'\n",
    "    )\n",
    "    ax.add_patch(rect)\n",
    "\n",
    "for i, bbox in enumerate(targets['boxes']):\n",
    "    rect = patches.Rectangle(\n",
    "        (bbox[0].item(), bbox[1].item()), \n",
    "        width=(bbox[2] - bbox[0]).item(), \n",
    "        height=(bbox[3] - bbox[1]).item(), \n",
    "        linewidth=4, \n",
    "        edgecolor=f\"b\", \n",
    "        facecolor='none'\n",
    "    )\n",
    "    ax.add_patch(rect)\n",
    "ax.set_title('All predicted boxes')\n",
    "    \n",
    "ax = fig.add_subplot(132)\n",
    "ax.imshow(img.permute(1,2,0))\n",
    "for i, bbox in enumerate(pred_bboxes[pred_cat != 28]):\n",
    "    rect = patches.Rectangle(\n",
    "        (bbox[0].item(), bbox[1].item()), \n",
    "        width=(bbox[2] - bbox[0]).item(), \n",
    "        height=(bbox[3] - bbox[1]).item(), \n",
    "        linewidth=4, \n",
    "        edgecolor=f\"r\", \n",
    "        facecolor='none'\n",
    "    )\n",
    "    ax.add_patch(rect)\n",
    "\n",
    "for i, bbox in enumerate(targets['boxes']):\n",
    "    rect = patches.Rectangle(\n",
    "        (bbox[0].item(), bbox[1].item()), \n",
    "        width=(bbox[2] - bbox[0]).item(), \n",
    "        height=(bbox[3] - bbox[1]).item(), \n",
    "        linewidth=4, \n",
    "        edgecolor=f\"b\", \n",
    "        facecolor='none'\n",
    "    )\n",
    "    ax.add_patch(rect)\n",
    "ax.set_title('Exclude boxes predicted as background')\n",
    "\n",
    "ax = fig.add_subplot(133)\n",
    "ax.imshow(img.permute(1,2,0))\n",
    "for i, bbox in enumerate(preds['boxes'][preds['labels'] != 28]):\n",
    "    rect = patches.Rectangle(\n",
    "        (bbox[0].item(), bbox[1].item()), \n",
    "        width=(bbox[2] - bbox[0]).item(), \n",
    "        height=(bbox[3] - bbox[1]).item(), \n",
    "        linewidth=4, \n",
    "        edgecolor=f\"r\", \n",
    "        facecolor='none'\n",
    "    )\n",
    "    ax.add_patch(rect)\n",
    "    \n",
    "    # Add the text inside the box\n",
    "    ax.add_artist(rect)\n",
    "    rx, ry = rect.get_xy()\n",
    "\n",
    "    ax.annotate(f\"{id2cat[preds['labels'][i].item()]}: {preds['scores'][i].item():.2f}\", (rx, ry+14), color='k', weight='bold', \n",
    "            fontsize=15, ha='left', va='center')        \n",
    "\n",
    "for i, bbox in enumerate(targets['boxes']):\n",
    "    rect = patches.Rectangle(\n",
    "        (bbox[0].item(), bbox[1].item()), \n",
    "        width=(bbox[2] - bbox[0]).item(), \n",
    "        height=(bbox[3] - bbox[1]).item(), \n",
    "        linewidth=4, \n",
    "        edgecolor=f\"b\", \n",
    "        facecolor='none'\n",
    "    )\n",
    "    ax.add_patch(rect)\n",
    "    \n",
    "    # Add the text inside the box\n",
    "    ax.add_artist(rect)\n",
    "    rx, ry = rect.get_xy()\n",
    "\n",
    "    ax.annotate({id2cat[targets['labels'][i].item()]}, (rx, ry+14), color='k', weight='bold', \n",
    "            fontsize=15, ha='left', va='center')        \n",
    "    \n",
    "ax.set_title('Exploit NMS')\n",
    "\n",
    "plt.tight_layout()\n",
    "plt.savefig('/work3/s194253/02514/project4_results/predict_imgs/test.png', bbox_inches='tight', dpi=300)\n",
    "plt.close()"
   ]
  },
  {
   "cell_type": "code",
   "execution_count": null,
   "metadata": {},
   "outputs": [],
   "source": [
    "pred_matches, gt_matches, box_labels, gt2pred = model.compare_boxes(bboxes, cat_ids, pred_bboxes, num_classes)"
   ]
  },
  {
   "cell_type": "code",
   "execution_count": null,
   "metadata": {},
   "outputs": [],
   "source": []
  },
  {
   "cell_type": "code",
   "execution_count": 203,
   "metadata": {},
   "outputs": [],
   "source": [
    "plot_SS(\n",
    "    img, \n",
    "    targets['boxes'].detach().cpu(), \n",
    "    targets['labels'].detach().cpu(), \n",
    "    preds['boxes'].detach().cpu(), \n",
    "    preds['labels'].detach().cpu(), \n",
    "    preds['scores'].detach().cpu(),\n",
    "    i,\n",
    "    batch_idx,\n",
    "    id2cat,\n",
    "    path = '/work3/s194253/02514/project4_results/predict_imgs/new'\n",
    ")"
   ]
  },
  {
   "cell_type": "code",
   "execution_count": null,
   "metadata": {},
   "outputs": [],
   "source": []
  },
  {
   "cell_type": "code",
   "execution_count": null,
   "metadata": {},
   "outputs": [],
   "source": []
  }
 ],
 "metadata": {
  "kernelspec": {
   "display_name": "Python 3 (ipykernel)",
   "language": "python",
   "name": "python3"
  },
  "language_info": {
   "codemirror_mode": {
    "name": "ipython",
    "version": 3
   },
   "file_extension": ".py",
   "mimetype": "text/x-python",
   "name": "python",
   "nbconvert_exporter": "python",
   "pygments_lexer": "ipython3",
   "version": "3.10.7"
  }
 },
 "nbformat": 4,
 "nbformat_minor": 2
}
